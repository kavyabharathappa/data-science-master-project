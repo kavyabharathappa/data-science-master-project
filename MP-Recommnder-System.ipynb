{
 "cells": [
  {
   "cell_type": "markdown",
   "metadata": {},
   "source": [
    "# Hotel Recommender System\n",
    "\n",
    "\n",
    "###  Hello DATA\n",
    "\n",
    "This dataset has following fields:\n",
    "\n",
    "\n",
    "- `address`\n",
    "- `area` - The sub-city region that this hotel is located in, geographically.\n",
    "- `city` - city name\n",
    "- `country` - Always India.\n",
    "- `crawl_date` - on the date the data has been crawled, same for the whole data [CONFIRM PLEASE]\n",
    "- `guest_recommendation` - How many guests that stayed here have recommended this hotels to others on the site.\n",
    "- `hotel_brand` - The chain that owns this hotel, if this hotel is part of a chain.\n",
    "- `hotel_category` - Two types : gostays, regular\n",
    "- `hotel_description` - A hotel description, as provided by the lister.\n",
    "- `hotel_facilities` - Doctor, Aiport Transfer, Laundry, Internet Access, and so on [EXPLORE FURTHER]\n",
    "- `hotel_star_rating` - The out-of-five star rating of this hotel.\n",
    "- `image_count` - The number of images provided with the listing.\n",
    "- `latitude`\n",
    "- `locality` - Same as area\n",
    "- `longitude`\n",
    "- `pageurl` - Link to the website e.g. goibibo.com, booking.com and cleartip.com\n",
    "- `point_of_interest` - Nearby locations of interest.\n",
    "- `property_name` - Name of the hotel/property\n",
    "- `property_type` - The type of property. Usually a resort, cottage, hotel, guest house and so on.\n",
    "- `province` - same as city [Confirmation one more time required]\n",
    "- `qts` - Crawl timestamp (Time of retrival from the website)\n",
    "- `query_time_stamp` - Copy of qts. \n",
    "- `review_count_by_category` - Reviews broken across several categories e.g. positive reviews, critical review\n",
    "- `room_area` - area of room in sq.ft.\n",
    "- `room_count` - number of room in the hotel\n",
    "- `room_facilities` - room service, bathroom, amenities, cable, air conditioning, satellite, and so on\n",
    "- `room_type` - deluxe room, standard room, standard room non-AC and so on\n",
    "- `similar_hotel` - url of similar hotel\n",
    "- `site_review_count` - The number of reviews for this hotel recieved on the website posted by users.\n",
    "- `site_review_rating` - The overall rating for this hotel by users (Average).\n",
    "- `site_stay_review_rating` - review for each facility/services\n",
    "- `sitename` - Either goibibo.com, booking.com, cleartrip.com\n",
    "- `state` - province\n",
    "- `uniq_id` - unique id from the website to the hotel\n",
    "\n"
   ]
  },
  {
   "cell_type": "markdown",
   "metadata": {},
   "source": [
    "### Importing the libraries\n"
   ]
  },
  {
   "cell_type": "code",
   "execution_count": null,
   "metadata": {},
   "outputs": [],
   "source": [
    "import sys #access to system parameters https://docs.python.org/3/library/sys.html\n",
    "print(\"Python version: {}\". format(sys.version))\n",
    "\n",
    "import IPython\n",
    "from IPython import display #pretty printing of dataframes in Jupyter notebook\n",
    "print(\"IPython version: {}\". format(IPython.__version__))\n",
    "\n",
    "import numpy as np #foundational package for scientific computing\n",
    "print(\"Numpy version: {}\". format(np.__version__))\n",
    "\n",
    "import pandas as pd #collection of functions for data processing and analysis modeled after R dataframes with sql like features\n",
    "print(\"Pandas version: {}\". format(pd.__version__))\n",
    "\n",
    "import matplotlib #collection of functions for scientific and publication-ready visualization\n",
    "print(\"Matplotlib version: {}\". format(matplotlib.__version__))\n",
    "\n",
    "import scipy as sp #collection of functions for scietific computing and advance mathematics\n",
    "print(\"Scipy version: {}\". format(sp.__version__))\n",
    "\n",
    "import sklearn #collection of machine learning algorithms\n",
    "print(\"Scikit learn version: {}\". format(sklearn.__version__))\n",
    "\n",
    "\n",
    "#ignore warnings\n",
    "import warnings\n",
    "warnings.filterwarnings('ignore')\n",
    "print('_'*30)\n",
    "\n",
    "\n",
    "# Input data files are available in \"./\" directory\n",
    "# After running this cell, the below two lines will list the files in the above directory\n",
    "from subprocess import check_output\n",
    "print(check_output([\"ls\", \"./\"]).decode(\"utf8\"))\n",
    "\n",
    "\n",
    "import pandas as pd\n",
    "from IPython.display import display\n"
   ]
  },
  {
   "cell_type": "markdown",
   "metadata": {},
   "source": [
    "## Import Data\n",
    "\n",
    "There are three datasets that have to be merged vertically. Loading the three datasets as:"
   ]
  },
  {
   "cell_type": "code",
   "execution_count": null,
   "metadata": {},
   "outputs": [],
   "source": [
    "data_goibibo_com = pd.read_csv(\"./../data/goibibo_com-travel_sample.csv\")\n",
    "data_booking_com = pd.read_csv(\"./../data/booking_com-travel_sample.csv\")\n",
    "data_cleartrip_com = pd.read_csv(\"./../data/cleartrip_com-travel_sample.csv\")\n",
    "\n",
    "\n",
    "#### display all columns\n",
    "# pd.options.display.max_columns = None"
   ]
  },
  {
   "cell_type": "markdown",
   "metadata": {},
   "source": [
    "## Merging the three datasets\n",
    "\n",
    "### Changing columns names for those which are same but just the name is difference in other datasets"
   ]
  },
  {
   "cell_type": "code",
   "execution_count": null,
   "metadata": {},
   "outputs": [],
   "source": [
    "# the column values are the same but the names are not. Therefore, the values are changed.\n",
    "\n",
    "data_cleartrip_com.rename(index=str, columns={'tad_review_count':'site_review_count',\n",
    "                          'tad_review_rating':'site_review_rating',\n",
    "                          'tad_stay_review_rating':'site_stay_review_rating'}, inplace=True)\n"
   ]
  },
  {
   "cell_type": "code",
   "execution_count": null,
   "metadata": {},
   "outputs": [],
   "source": [
    "\n",
    "# sorting data_goibibo_com by the column name\n",
    "\n",
    "data_goibibo_com.reindex(sorted(data_goibibo_com.columns), axis=1)\n",
    "data_goibibo_cols = data_goibibo_com.columns\n",
    "print(data_goibibo_cols)\n",
    "\n",
    "# sorting data_booking_com by the column name\n",
    "\n",
    "data_booking_com.reindex(sorted(data_booking_com.columns), axis=1)\n",
    "data_booking_cols = data_booking_com.columns\n",
    "print(data_booking_cols)\n",
    "\n",
    "# sorting data_cleartip_com by the column name\n",
    "\n",
    "data_cleartrip_com.reindex(sorted(data_cleartrip_com.columns), axis=1)\n",
    "data_cleartrip_cols = data_cleartrip_com.columns\n",
    "print(data_cleartrip_cols)"
   ]
  },
  {
   "cell_type": "code",
   "execution_count": null,
   "metadata": {},
   "outputs": [],
   "source": [
    "data_goibibo_com.head(2)\n"
   ]
  },
  {
   "cell_type": "code",
   "execution_count": null,
   "metadata": {},
   "outputs": [],
   "source": [
    "data_booking_com.head(2)\n"
   ]
  },
  {
   "cell_type": "code",
   "execution_count": null,
   "metadata": {},
   "outputs": [],
   "source": [
    "data_cleartrip_com.head(2)\n"
   ]
  },
  {
   "cell_type": "code",
   "execution_count": null,
   "metadata": {},
   "outputs": [],
   "source": [
    "\n",
    "# this line is to show the column's full width row-wise [single cell]\n",
    "\n",
    "def show_goibibo_hotel_facilities(show_num_rows):\n",
    "    \n",
    "    # the follwing line is to show the full width of a dataframe/dataseries cell\n",
    "    #pd.set_option('display.max_colwidth', -1)\n",
    "\n",
    "    print(data_goibibo_com.hotel_facilities.head(show_num_rows))\n",
    "    print(\"*\"*40)\n",
    "    print()\n",
    "    print(\"*\"*40)\n",
    "    print(data_goibibo_com.room_facilities.head(show_num_rows))\n",
    "    print(\"*\"*40)\n",
    "    print()\n",
    "    print(\"*\"*40)\n",
    "    print(data_goibibo_com.additional_info.head(show_num_rows))\n",
    "\n",
    "\n",
    "show_goibibo_hotel_facilities(2)\n"
   ]
  },
  {
   "cell_type": "markdown",
   "metadata": {},
   "source": [
    "\n",
    "## Columns Merging\n",
    "\n",
    "### Confirm if the merge was fine\n",
    "\n",
    "See the separate cells of the columns that we will merge together so to confirm if it could be seen as merged in the later cell\n",
    "\n",
    "### merge giobibo's columns\n",
    "\n",
    "#### hotel_facilities  = hotel_facilities + room_facilities + additional_info\n",
    "\n",
    "\n",
    "\n"
   ]
  },
  {
   "cell_type": "code",
   "execution_count": null,
   "metadata": {},
   "outputs": [],
   "source": [
    "data_goibibo_com['hotel_facilities'] = data_goibibo_com['hotel_facilities'].map(str) + \\\n",
    "                                       data_goibibo_com['room_facilities'] + data_goibibo_com['additional_info']\n",
    "\n",
    "data_goibibo_com['hotel_facilities'].head(1)\n",
    "\n",
    "\n"
   ]
  },
  {
   "cell_type": "markdown",
   "metadata": {},
   "source": [
    "### Merge cleartrip's columns\n",
    "\n",
    "#### hotel_facilities = hotel_faclities + room_facilities"
   ]
  },
  {
   "cell_type": "code",
   "execution_count": null,
   "metadata": {},
   "outputs": [],
   "source": [
    "def show_cleartrip_hotel_facilities(show_num_rows):\n",
    "    \n",
    "    # the follwing line is to show the full width of a dataframe/dataseries cell\n",
    "    #pd.set_option('display.max_colwidth', -1)\n",
    "\n",
    "    print(data_cleartrip_com.hotel_facilities.head(show_num_rows))\n",
    "    print(\"*\"*40)\n",
    "    print()\n",
    "    print(\"*\"*40)\n",
    "    print(data_cleartrip_com.room_facilities.head(show_num_rows))\n",
    "    print(\"*\"*40)\n",
    "\n",
    "show_cleartrip_hotel_facilities(2)\n"
   ]
  },
  {
   "cell_type": "code",
   "execution_count": null,
   "metadata": {},
   "outputs": [],
   "source": [
    "data_cleartrip_com['hotel_facilities'] = data_cleartrip_com['hotel_facilities'].map(str) + \\\n",
    "                                       data_cleartrip_com['room_facilities']\n",
    "data_cleartrip_com.hotel_facilities.head(2)\n"
   ]
  },
  {
   "cell_type": "code",
   "execution_count": null,
   "metadata": {},
   "outputs": [],
   "source": [
    "data_goibibo_com.head(2)"
   ]
  },
  {
   "cell_type": "markdown",
   "metadata": {},
   "source": [
    "## Feature Selection\n",
    "\n",
    "==============================================================================================================\n",
    "\n",
    "\n",
    "| Excluded Column         | Included Feature           | Derived Feature   |   Potential Feature (Unsure) **|\n",
    "| -------------           |:--------------------------:| -----------------:|-------------------------------:|\n",
    "| crawl_date              | city                       |         *         | hotel_brand                    |\n",
    "| country                 | guest recommendation       |         *         | hotel_category                 |\n",
    "| area/zone               | hotel_facilities ->        |         *         | hotel_description              |\n",
    "| locality                | additional_info ->         |         *         | address                        |\n",
    "| property_Id             | hotel_star_rating          |         *         | image_count                    |\n",
    "| province                | property_type              |         *         | latitude/longitude (end result)|\n",
    "| qts                     | site_review_count          |         *         | Pageurl (end result)           |\n",
    "| query_time_stamp        | room count                 |         *         | point_of_interest->            |\n",
    "| similar_hotel           | room facilities            |         *         | Property_name(end results)     |\n",
    "| review_count_by_category| room type                  |         *         | property_type(booking.com)     |\n",
    "| sitename                | room area                  |         *         | state (end result)             |\n",
    "| uniq_id                 | site_review_rating         |         *         |                                |\n",
    "| special_tagl            | site_stay_review_rating->* |         *         |                                |\n",
    "\n"
   ]
  },
  {
   "cell_type": "code",
   "execution_count": null,
   "metadata": {},
   "outputs": [],
   "source": [
    "def shape_of_datasets(*datasets):\n",
    "    \"\"\"Returns the shape of datasets\"\"\"\n",
    "    return datasets[0].shape, datasets[1].shape, datasets[2].shape\n",
    "\n",
    "shape_of_datasets(data_goibibo_com, data_booking_com, data_cleartrip_com)"
   ]
  },
  {
   "cell_type": "code",
   "execution_count": null,
   "metadata": {},
   "outputs": [],
   "source": [
    "# Comparing the two datasets\n",
    "def compare_datasets(*datasets):\n",
    "    return datasets[0].equals(datasets[1]), datasets[1].equals(datasets[2]), datasets[0].equals(datasets[2])\n",
    "\n",
    "compare_datasets(data_goibibo_com, data_booking_com, data_cleartrip_com)"
   ]
  },
  {
   "cell_type": "markdown",
   "metadata": {},
   "source": [
    "## Common Columns assessment\n",
    "\n",
    "Find the same columns in each dataset and on which column number each one lies "
   ]
  },
  {
   "cell_type": "code",
   "execution_count": null,
   "metadata": {
    "scrolled": false
   },
   "outputs": [],
   "source": [
    "# Finding the indices where does which columns lie\n",
    "import pprint\n",
    "\n",
    "\"\"\"\n",
    "get_scwci = get_same_columns_with_column_index\n",
    "\"\"\"\n",
    "\n",
    "# This dictioanry will help in reshuffling of the columns if needed\n",
    "same_cols_with_ind = {'goibibo_com': {}, 'booking_com': {}, 'cleartrip_com': {}}\n",
    "\n",
    "def get_scwci(df1, df2, df3):\n",
    "    \"\"\"Get same columns with column indices.\"\"\"\n",
    "    same_cols = []\n",
    "\n",
    "    for ind_df1, col_name_df1 in enumerate(df1.columns):\n",
    "        for ind_df2, col_name_df2 in enumerate(df2.columns):\n",
    "            if col_name_df1 == col_name_df2:\n",
    "                for ind_df3, col_name_df3 in enumerate(df3.columns):\n",
    "                    if col_name_df1 == col_name_df3:\n",
    "                        print(\"SAME: \" + str(ind_df1) + \"    '\" + col_name_df1 + \"' \\\n",
    "                        \"+ \"\" + str(ind_df2) + \"     '\" + col_name_df2 + \"'\" \\\n",
    "                        + \"     \" +str(ind_df3) + \"     '\" + col_name_df3 + \"'\")\n",
    "                        same_cols.append(col_name_df1)\n",
    "                        same_cols_with_ind['goibibo_com'][ind_df1] = col_name_df1\n",
    "                        same_cols_with_ind['booking_com'][ind_df2] = col_name_df2\n",
    "                        same_cols_with_ind['cleartrip_com'][ind_df3] = col_name_df3\n",
    "                    \n",
    "    return same_cols, \"\\nNumber of common columns: \" + str(len(same_cols))\n",
    "\n",
    "print(get_scwci(data_goibibo_com, data_booking_com, data_cleartrip_com))\n",
    "print(\"\\n===***===***===***===***===***===***===***===***===***===***===***\\n\")\n",
    "\n",
    "pp = pprint.PrettyPrinter(indent=4)\n",
    "pp.pprint(same_cols_with_ind)\n"
   ]
  },
  {
   "cell_type": "markdown",
   "metadata": {},
   "source": [
    "### Included, Potenatial and Excluded Columns in Goibibo data \n",
    "\n",
    "Goibibo is the reference of the datasets\n",
    "\n"
   ]
  },
  {
   "cell_type": "code",
   "execution_count": null,
   "metadata": {},
   "outputs": [],
   "source": [
    "included_features_goi = ['guest_recommendation', 'city', 'hotel_facilities', 'additional_info', \\\n",
    "                         'hotel_star_rating', 'site_review_count', 'room_count', \\\n",
    "                         'room_facilities', 'room_type', 'site_review_rating', \\\n",
    "                         'site_stay_review_rating', ]\n",
    "\n",
    "potential_features_goi = ['hotel_brand', 'hotel_category', 'hotel_description', 'address', \\\n",
    "                          'image_count', 'latitude', 'longitude', 'pageurl', 'point_of_interest', \\\n",
    "                          'property_name', 'property_type', 'state', 'room_area']\n",
    "\n",
    "discarded_columns_goi = [\"crawl_date\", \"country\", \"area\", \"locality\", \"property_id\", \"province\", \\\n",
    "                        \"qts\", \"query_time_stamp\", \"similar_hotel\", \"review_count_by_category\", \\\n",
    "                        \"uniq_id\", \"sitename\"]\n",
    "\n",
    "inc_poten_features = included_features_goi + potential_features_goi\n",
    "all_cols = inc_poten_features + discarded_columns_goi\n",
    "\n",
    "print(sorted(all_cols) == sorted(list(data_goibibo_com.columns)))"
   ]
  },
  {
   "cell_type": "code",
   "execution_count": null,
   "metadata": {},
   "outputs": [],
   "source": [
    "# Columns that are common in goibibo.com, booking.com and cleartrip.com\n",
    "# Columns that part of goibibo\n",
    "\n",
    "common_cols = sorted(set(all_cols).intersection(set(data_booking_cols).intersection(set(data_cleartrip_cols))))\n",
    "different_cols = sorted(set(all_cols).difference(set(data_booking_cols).difference(set(data_cleartrip_cols))))\n",
    "\n",
    "print(\"COMMOM COLUMNS\")\n",
    "print(common_cols)\n",
    "print(len(common_cols))\n",
    "print(\"Columns that are in goibibo.com and missing in booking.com\")\n",
    "print(different_cols)\n",
    "print(len(different_cols))"
   ]
  },
  {
   "cell_type": "code",
   "execution_count": null,
   "metadata": {},
   "outputs": [],
   "source": [
    "# The otherway around\n",
    "# all_cols = data_goibibo_com.columns\n",
    "\n",
    "common_cols = set(data_booking_cols).intersection(set(all_cols))\n",
    "print(common_cols)\n",
    "print(len(common_cols))\n",
    "common_cols = set(common_cols).intersection(set(data_cleartrip_cols))\n",
    "\n",
    "different_cols = set(data_booking_cols).difference(set(all_cols).difference(set(data_cleartrip_cols)))\n",
    "\n",
    "print(\"COMMOM COLUMNS\")\n",
    "print(common_cols)\n",
    "print(len(common_cols))\n",
    "print(\"Columns that are in booking.com and missing in goibibo.com\")\n",
    "print(different_cols)\n",
    "print(len(different_cols))\n"
   ]
  },
  {
   "cell_type": "code",
   "execution_count": null,
   "metadata": {},
   "outputs": [],
   "source": [
    "# [col for col in common_cols if col in included_features_goi]\n",
    "print(common_cols.intersection(included_features_goi))\n",
    "print(common_cols.intersection(potential_features_goi))"
   ]
  },
  {
   "cell_type": "code",
   "execution_count": null,
   "metadata": {},
   "outputs": [],
   "source": [
    "d = [data_goibibo_cols, data_booking_cols, data_cleartrip_cols]\n",
    "set(d[0]).intersection(*d)"
   ]
  },
  {
   "cell_type": "markdown",
   "metadata": {},
   "source": [
    "In the below cell I have merged the three datasets but I have remove the index and give another index\n",
    "Rename similar columns and remove those which are not necessary.\n",
    "\n",
    "\n",
    "# Merge the datasets [goibibo, booking, cleartrip]\n"
   ]
  },
  {
   "cell_type": "code",
   "execution_count": null,
   "metadata": {},
   "outputs": [],
   "source": [
    "data = data_goibibo_com.append(data_booking_com, sort=False).append(data_cleartrip_com, sort=False)\n",
    "data.reset_index(drop=True, inplace=True)"
   ]
  },
  {
   "cell_type": "markdown",
   "metadata": {},
   "source": [
    "##### Drop the columns that have been added to `hotel_facilities`.\n"
   ]
  },
  {
   "cell_type": "code",
   "execution_count": null,
   "metadata": {},
   "outputs": [],
   "source": [
    "data.drop(['additional_info', 'room_facilities'], axis=1, inplace=True)\n",
    "data.head(10)"
   ]
  },
  {
   "cell_type": "code",
   "execution_count": null,
   "metadata": {},
   "outputs": [],
   "source": [
    "print(data.columns)\n",
    "print(len(data.columns))\n"
   ]
  },
  {
   "cell_type": "markdown",
   "metadata": {},
   "source": [
    "`'address'`, `'area'`, `'city'`, `'country'`, `'crawl_date'`,\n",
    "`'guest_recommendation'`, `'hotel_brand'`, `'hotel_category'`,\n",
    "`'hotel_description'`, `'hotel_facilities'`, `'hotel_star_rating'`,\n",
    "`'image_count'`, `'latitude'`, `'locality'`, `'longitude'`, `'pageurl'`,\n",
    "`'point_of_interest'`, `'property_id'`, `'property_name'`, `'property_type'`,\n",
    "`'province'`, `'qts'`, `'query_time_stamp'`, `'review_count_by_category'`,\n",
    "`'room_area'`, `'room_count'`, `'room_type'`, `'similar_hotel'`,\n",
    "`'site_review_count'`, `'site_review_rating'`, `'site_stay_review_rating'`,\n",
    "`'sitename'`, `'state'`, `'uniq_id'`, `'special_tag'`, `'zone'`,\n",
    "`'cleartrip_seller_rating'`, `'image_urls'`, `'landmark'`,\n",
    "`'tripadvisor_seller_rating']`,\n",
    "\n",
    "\n",
    "OUT OF THE ABOVE BELOW ARE NOT INCLUDED FEATURES SO we would drop them out:\n",
    "\n",
    "`'area'`, `'cleartrip_seller_rating'`, `'country'`, `'crawl_date'`, `'image_urls'`, `'locality'`, `'landmark'`, `'property_id'`, `'province'`, `'qts'`, `'query_time_stamp'`, `'similar_hotel'`, `'sitename'`,\n",
    "`'special_tag'`, `'tripadvisor_seller_rating'`, `'uniq_id'`, `'zone'`\n"
   ]
  },
  {
   "cell_type": "code",
   "execution_count": null,
   "metadata": {
    "scrolled": false
   },
   "outputs": [],
   "source": [
    "excluded_cols = ['area', 'cleartrip_seller_rating', 'country', 'crawl_date', 'image_urls', \\\n",
    "                 'locality', 'landmark', 'property_id', 'province', 'qts', 'query_time_stamp', \\\n",
    "                 'similar_hotel', 'sitename', 'special_tag', 'tripadvisor_seller_rating', 'uniq_id', 'zone']\n",
    "\n",
    "data.drop(excluded_cols, axis='columns', inplace=True)\n",
    "data.head()"
   ]
  },
  {
   "cell_type": "markdown",
   "metadata": {},
   "source": [
    "`'city'`,\n",
    "` 'hotel_brand'`,\n",
    "` 'hotel_description'`,\n",
    "` 'hotel_facilities'`,\n",
    "` 'hotel_star_rating'`,\n",
    "` 'image_count'`,\n",
    "` 'latitude'`,\n",
    "` 'longitude'`,\n",
    "` 'pageurl'`,\n",
    "` 'property_name'`,\n",
    "` 'property_type'`,\n",
    "` 'room_count'`,\n",
    "` 'room_type'`,\n",
    "` 'site_review_count'`,\n",
    "` 'site_review_rating'`,\n",
    "` 'site_stay_review_rating'`,\n",
    "` 'sitename'`,\n",
    "` 'state'`,\n",
    "` 'city'`,\n",
    "` 'hotel_brand'`,\n",
    "` 'hotel_description'`,\n",
    "` 'hotel_facilities'`,\n",
    "` 'hotel_star_rating'`,\n",
    "` 'image_count'`,\n",
    "` 'latitude'`,\n",
    "` 'longitude'`,\n",
    "` 'pageurl'`,\n",
    "` 'property_name'`,\n",
    "` 'property_type'`,\n",
    "` 'room_count'`,\n",
    "` 'room_type'`,\n",
    "` 'site_review_count'`,\n",
    "` 'site_review_rating'`,\n",
    "` 'site_stay_review_rating'`,\n",
    "` 'sitename'`,\n",
    "` 'state'`"
   ]
  },
  {
   "cell_type": "code",
   "execution_count": null,
   "metadata": {},
   "outputs": [],
   "source": [
    "print(data.columns)\n",
    "print(len(excluded_cols))\n",
    "print(len(data.columns))\n",
    "print(len(list(data.columns) + excluded_cols))\n",
    "\n"
   ]
  },
  {
   "cell_type": "markdown",
   "metadata": {},
   "source": [
    "## Null values"
   ]
  },
  {
   "cell_type": "code",
   "execution_count": null,
   "metadata": {},
   "outputs": [],
   "source": [
    "data.isnull().sum()"
   ]
  },
  {
   "cell_type": "markdown",
   "metadata": {},
   "source": [
    "## Removing columns based on the number of missing values\n",
    "\n",
    "\n",
    "   - `guest_recommendation` : 12584 missing values\n",
    "   - `hotel_brand`: 13299 missing values \n",
    "   - `hotel_category`: 11000 missing values \n",
    "   - `point_of_interest`: 11240 missing values \n",
    "   - `review_count_by_category`: 12585 missing values \n",
    "   - `room_area`: 13240 missing values \n",
    "\n"
   ]
  },
  {
   "cell_type": "code",
   "execution_count": null,
   "metadata": {},
   "outputs": [],
   "source": [
    "data.drop(['guest_recommendation', 'hotel_brand', 'hotel_category', 'point_of_interest', \\\n",
    "          'review_count_by_category', 'room_area'], axis='columns', inplace=True)\n",
    "print(len(data.columns))\n",
    "print(data.columns)"
   ]
  },
  {
   "cell_type": "code",
   "execution_count": null,
   "metadata": {},
   "outputs": [],
   "source": [
    "data.head()"
   ]
  },
  {
   "cell_type": "markdown",
   "metadata": {},
   "source": [
    "### Merged Data: Excluded, Included, Derived, Potential\n",
    "\n",
    "                                               Final Data table:\n",
    "\n",
    "| Excluded Column          | Included Feature           | Derived Feature   |   Potential Feature (Unsure) **|\n",
    "| -------------            |:--------------------------:| ----------------: |-------------------------------:|\n",
    "| crawl_date               | city                       |         *         | address                        |\n",
    "| country                  | hotel_facilities ->        |         *         | image_count                    |\n",
    "| area                     | hotel_star_rating          |         *         | hotel_description              |\n",
    "| locality                 | property_type              |         *         |                -               |\n",
    "| property_id              | property_name (end result) |         *         |                -               |\n",
    "| province                 | pageurl (end result)       |         *         |                -               |\n",
    "| qts                      | latitude (end result)      |         *         |                -               |\n",
    "| query_time_stamp         | longitude (end result)     |         *         |                -               |\n",
    "| similar_hotel            | room_count                 |         *         |                -               |\n",
    "| guest_recommendation     | room_type                  |         *         |                -               |\n",
    "| sitename                 | site_review_count          |         *         |                -               |\n",
    "| uniq_id                  | site_review_rating         |         *         |                -               |\n",
    "| special_tag              | site_stay_review_rating->* |         *         |                -               |\n",
    "| hotel_brand              | state (end result)         |         *         |                -               |\n",
    "| hotel_category           |             -              |         -         |                -               |\n",
    "| point_of_interest        |             -              |         -         |                -               |\n",
    "| review_count_by_category |             -              |         -         |                -               |\n",
    "| room_area                |             -              |         -         |                -               |\n",
    "| cleartrip_seller_rating  |             -              |         -         |                -               |\n",
    "| tripadvisor_seller_rating|             -              |         -         |                -               |\n",
    "| zone                     |             -              |         -         |                -               |\n",
    "| image_urls               |             -              |         -         |                -               |\n",
    "| landmark                 |             -              |         -         |                -               |\n",
    "\n",
    "\n",
    "## Included Features\n",
    "\n",
    "\n",
    "| Included Feature            | Definition                                                        |\n",
    "| --------------------------- |:-----------------------------------------------------------------:|\n",
    "| **city**                    |                                                                   |\n",
    "| **hotel_facilities**        | Doctor, Aiport Transfer, Laundry, Internet Access, and so on      |\n",
    "| **hotel_star_rating**       | Out-of-five star rating of this hotel                             |\n",
    "| **property_type**           |\tUsually a resort, hotel, guest house, etc.                        |\n",
    "| **property_name**           |\tName of the hotel/property \t                                      |\n",
    "| **pageurl**                 | Link to the website e.g. goibibo.com, etc.                        |\n",
    "| **latitude**                | Latitude of location                                              |\n",
    "| **longitude**               | Longitude of location                                             |\n",
    "| **room_count **             | Number of rooms in a hotel                                        |\n",
    "| **room_type**               |\tType of room                                                      |\n",
    "| **room_area**               | Area of room in sq.ft.                                            |\n",
    "| **site_review_count**       |\tNumber of reviews for this hotel recieved on the website       \t  |\n",
    "| **site_review_rating**      | The overall rating for this hotel by users (Average)              |\n",
    "| **site_stay_review_rating** | review for each facility/services\n",
    "\n",
    "\n",
    "\n",
    "### Potential Features\n",
    "\n",
    "\n",
    "| Variable                    | Definition                         | Key                  |\n",
    "| -------------               |:-------------:                     | --------------------:|\n",
    "| **address**                 | address of the hotel               |           -          |\n",
    "| **image_count**             | # of images listed on website      |           -          |\n",
    "| **hotel_description**       | number b/w 1 - 100                 | 1 = min, 100 = max   |\n",
    "\n",
    "\n",
    "\n",
    "### Excluded Features\n",
    "\n",
    "| Excluded Column               | Definition                                         |\n",
    "| ------------------------------|:--------------------------------------------------:|\n",
    "| **area**                      | The sub-city region, geographically                |\n",
    "| **cleartrip_seller_rating**   | Website seller rating                              |\n",
    "| **crawl_date**                | Date on which data was crawled                     |\n",
    "| **guest_recommendation**      | Guests recommended this hotels to others           |\n",
    "| **hotel_brand**               | The chain that owns this hotel                     |\n",
    "| **hotel_category**            | Two types : gostays, regular                       |\n",
    "| **point_of_interest**         | Nearby locations of interest                       |\n",
    "| **image_urls**                | Link to images of the property                     |\n",
    "| **locality**                  | Same as area                                       |\n",
    "| **landmark**                  | Nearest landmark                                   |\n",
    "| **property_id**               | Website id                                         |\n",
    "| **province**                  | Same as city                                       |\n",
    "| **qts**                       | Time at which data was queried                     |\n",
    "| **query_time_stamp**          | Same as above                                      |\n",
    "| **review_count_by_category**  | E.g. positive reviews, critical review             |\n",
    "| **room_area**                 | Area of room in sq.ft.                             |\n",
    "| **similar_hotel**             | Similar hotel URL                                  |\n",
    "| **sitename**                  | sitename is always like goibibo, etc.              |\n",
    "| **special_tag**               | E.g. Shared, for couple, etc.                      |\n",
    "| **tripadvisor_seller_rating** | Tripadvisor rating                                 |\n",
    "| **uniq_id**                   | unique_id from the website                         |\n",
    "| **zone**                      | Same as area                                       |\n",
    "\n"
   ]
  },
  {
   "cell_type": "markdown",
   "metadata": {},
   "source": [
    "## Drop missing values\n",
    "\n",
    "### Drop all the rows that has these five cols missing\n",
    "\n",
    "Multiple cols that are important for our hypothesis are missing values simulataneaously. Below are the"
   ]
  },
  {
   "cell_type": "code",
   "execution_count": null,
   "metadata": {},
   "outputs": [],
   "source": [
    "# Make a dataframe of the values that has latitude or longitude value as NaN\n",
    "mask_latlong_nans = (data['latitude'].isnull()) | (data['longitude'].isnull())\n",
    "\n",
    "#dataframe of latitude and longitude NaN values\n",
    "df_latlong_nans = data[mask_latlong_nans]\n",
    "display(df_latlong_nans.shape)\n",
    "#display(df_latlong_nans)\n",
    "\n",
    "# Remove the latitude and longitude NaN values from the dataframe\n",
    "df = data[~mask_latlong_nans]\n",
    "df.shape\n"
   ]
  },
  {
   "cell_type": "markdown",
   "metadata": {},
   "source": [
    "#### Change `site_review_count` datatype from object to numeric\n"
   ]
  },
  {
   "cell_type": "code",
   "execution_count": null,
   "metadata": {},
   "outputs": [],
   "source": [
    "# convert type of site_review_count from object to numeric\n",
    "df['site_review_count'] = pd.to_numeric(df['site_review_count'], errors='coerce')\n"
   ]
  },
  {
   "cell_type": "code",
   "execution_count": null,
   "metadata": {},
   "outputs": [],
   "source": [
    "# get the data of the missing values of the multiple columns\n",
    "\n",
    "missing_multi_cols_values = df[df.address.isna() & \\\n",
    "                               df.hotel_facilities.isna() & \\\n",
    "                               df.property_name.isna()  & \\\n",
    "                               df.site_review_count.isna() & \\\n",
    "                               df.site_stay_review_rating.isna()]\n",
    "\n",
    "#display(df.head(10))\n",
    "display(df.shape)\n",
    "display(missing_multi_cols_values.shape)\n",
    "\n",
    "df = df[~df.address.isna() |\\\n",
    "   ~df.hotel_facilities.isna() | \\\n",
    "   ~df.property_name.isna()  |\\\n",
    "   ~df.site_review_count.isna() | \\\n",
    "   ~df.site_stay_review_rating.isna()]\n",
    "\n",
    "display(df.shape)\n",
    "\n",
    "# the code in this column could be exempted but I kept it for fun since its another \n",
    "# approach that is done in a few cells below\n",
    "\n"
   ]
  },
  {
   "cell_type": "markdown",
   "metadata": {},
   "source": [
    "For any rows where `site_review_count`, `site_review_rating` is a `NaN`, its `site_stay_review_rating` is also null, although the text is written but there is no numbering to it. Since `site_stay_review_rating` can further be split in 6 columns of its own, a total of review features would `>=` 8, which is big number of column values missing. That is why I would drop the whole row.\n",
    "\n",
    "\n",
    "### Drop `[site_review_count` , `site_review_rating]` with NaNs\n"
   ]
  },
  {
   "cell_type": "code",
   "execution_count": null,
   "metadata": {},
   "outputs": [],
   "source": [
    "# Drop rows if 'site_review_count', 'site_review_rating' are NaNs\n",
    "df.dropna(subset=['site_review_count', 'site_review_rating'], how='all', axis='rows', inplace=True)\n",
    "display(df.shape)\n"
   ]
  },
  {
   "cell_type": "markdown",
   "metadata": {},
   "source": [
    "### Drop `site_stay_review_rating` with NaNs\n"
   ]
  },
  {
   "cell_type": "code",
   "execution_count": null,
   "metadata": {},
   "outputs": [],
   "source": [
    "# Drop rows if 'site_stay_review_rating' are NaNs\n",
    "df.dropna(subset=['site_stay_review_rating'], axis='rows', inplace=True)\n",
    "display(df.shape)\n"
   ]
  },
  {
   "cell_type": "markdown",
   "metadata": {},
   "source": [
    "### Drop `hotel_facilities` with NaNs\n"
   ]
  },
  {
   "cell_type": "code",
   "execution_count": null,
   "metadata": {},
   "outputs": [],
   "source": [
    "# Drop rows if ['hotel_facilites']\n",
    "df.dropna(subset=['hotel_facilities'], axis='rows', inplace=True)\n",
    "display(df.shape)"
   ]
  },
  {
   "cell_type": "markdown",
   "metadata": {},
   "source": [
    "# Working with rows that are duplicate for specific columns\n",
    "\n",
    "### drop the rows that has same latitude and longitude while keeping the first only."
   ]
  },
  {
   "cell_type": "code",
   "execution_count": null,
   "metadata": {},
   "outputs": [],
   "source": [
    "# Find the dulpicate entries in the selected column, sort it and display it.\n",
    "display(len(df[df.duplicated(subset=['latitude', 'longitude'])].sort_values(by=['property_name'])))\n",
    "display(df[df.duplicated(subset=['latitude', 'longitude'])].sort_values(by=['property_name']))\n"
   ]
  },
  {
   "cell_type": "code",
   "execution_count": null,
   "metadata": {},
   "outputs": [],
   "source": [
    "data.shape"
   ]
  },
  {
   "cell_type": "markdown",
   "metadata": {},
   "source": [
    "### Groupby to see how many unique and how many duplicates are there based on ['longitude', 'latitude']\n"
   ]
  },
  {
   "cell_type": "code",
   "execution_count": null,
   "metadata": {},
   "outputs": [],
   "source": [
    "df_duplicate = data.groupby(['longitude', 'latitude']).size().reset_index(name='count')\n",
    "display(df_duplicate.head(50))\n",
    "display(df_duplicate.tail(50))\n",
    "display(df_duplicate.shape)\n"
   ]
  },
  {
   "cell_type": "markdown",
   "metadata": {},
   "source": [
    "## Drop Duplicates of `latitude`, `longitude`\n",
    "\n",
    "I am sorting `site_review_count` and `hotel_facilities` by because I dont want the maximum values of these columns to be dropped. Rather its the best to drop less_than_maximum values or NaNs. The rest are important for our results.\n"
   ]
  },
  {
   "cell_type": "code",
   "execution_count": null,
   "metadata": {},
   "outputs": [],
   "source": [
    "# removing latitude and longitude of duplicates now\n",
    "df = df.sort_values(by=['site_review_count', 'hotel_facilities'], ascending=False)\\\n",
    "    .drop_duplicates(subset=['latitude', 'longitude'], keep='first').sort_index()\n",
    "display(df.shape)\n",
    "display(df.head(5))\n",
    "display(df.tail(5))\n"
   ]
  },
  {
   "cell_type": "code",
   "execution_count": null,
   "metadata": {},
   "outputs": [],
   "source": [
    "display(df.isna().sum())\n"
   ]
  },
  {
   "cell_type": "markdown",
   "metadata": {},
   "source": [
    "## Concatenate the two splits of the dataframe, `df` + `df_latlong_nans`\n",
    "\n",
    "So from the above it is clear that `drop_duplicates` would delete the rows of NaNs in the respective columns. Since I already made a data frame of those rows, lets concatenate it.\n"
   ]
  },
  {
   "cell_type": "code",
   "execution_count": null,
   "metadata": {},
   "outputs": [],
   "source": [
    "frames = [df, df_latlong_nans]\n",
    "df = pd.concat(frames)\n",
    "\n",
    "display(df.shape)\n",
    "display(df.head(1))\n",
    "display(df.tail(1))\n",
    "display(df.isna().sum())\n"
   ]
  },
  {
   "cell_type": "markdown",
   "metadata": {},
   "source": [
    "Since we have not more duplicate `latitude` `longitude` except the `NaNs`. So possible distinguishers are: `city`, `address`, `property_name` and `property_type`.\n",
    "\n",
    "So lets find the similar `address`es.\n"
   ]
  },
  {
   "cell_type": "code",
   "execution_count": null,
   "metadata": {},
   "outputs": [],
   "source": [
    "# Drop rows if 'site_review_count', 'site_review_rating' are NaNs\n",
    "df.dropna(subset=['site_review_count', 'site_review_rating'], how='all', axis='rows', inplace=True)\n",
    "display(df.shape)\n",
    "display(df.info())\n",
    "\n",
    "# Drop rows if 'site_stay_review_rating' are NaNs\n",
    "df.dropna(subset=['site_stay_review_rating'], axis='rows', inplace=True)\n",
    "display(df.shape)\n",
    "display(df.info())\n",
    "\n",
    "# Drop rows if ['hotel_facilites']\n",
    "df.dropna(subset=['hotel_facilities'], axis='rows', inplace=True)\n",
    "display(df.shape)\n",
    "display(df.info())\n",
    "display(df.head(5))\n",
    "display(df.tail(5))"
   ]
  },
  {
   "cell_type": "markdown",
   "metadata": {},
   "source": [
    "## Some `address`es are duplicate but they are not full address and `property_name`s are different. THEREFORE NOT SURE WHAT TO DO WITH IT. \n",
    "\n",
    "# Therefore I'll leave it for now\n",
    "\n"
   ]
  },
  {
   "cell_type": "code",
   "execution_count": null,
   "metadata": {},
   "outputs": [],
   "source": []
  },
  {
   "cell_type": "code",
   "execution_count": null,
   "metadata": {},
   "outputs": [],
   "source": []
  },
  {
   "cell_type": "code",
   "execution_count": null,
   "metadata": {},
   "outputs": [],
   "source": []
  },
  {
   "cell_type": "code",
   "execution_count": null,
   "metadata": {},
   "outputs": [],
   "source": []
  },
  {
   "cell_type": "code",
   "execution_count": null,
   "metadata": {},
   "outputs": [],
   "source": []
  },
  {
   "cell_type": "code",
   "execution_count": null,
   "metadata": {},
   "outputs": [],
   "source": []
  },
  {
   "cell_type": "code",
   "execution_count": null,
   "metadata": {},
   "outputs": [],
   "source": []
  }
 ],
 "metadata": {
  "kernelspec": {
   "display_name": "Python 3",
   "language": "python",
   "name": "python3"
  },
  "language_info": {
   "codemirror_mode": {
    "name": "ipython",
    "version": 3
   },
   "file_extension": ".py",
   "mimetype": "text/x-python",
   "name": "python",
   "nbconvert_exporter": "python",
   "pygments_lexer": "ipython3",
   "version": "3.6.8"
  }
 },
 "nbformat": 4,
 "nbformat_minor": 2
}
