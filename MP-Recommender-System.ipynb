{
 "cells": [
  {
   "cell_type": "markdown",
   "metadata": {},
   "source": [
    "# Hotel Recommender System\n",
    "\n",
    "\n",
    "###  Hello DATA\n",
    "\n",
    "This dataset has following fields:\n",
    "\n",
    "\n",
    "- `address`\n",
    "- `area` - The sub-city region that this hotel is located in, geographically.\n",
    "- `city` - city name\n",
    "- `country` - Always India.\n",
    "- `crawl_date` - on the date the data has been crawled, same for the whole data [CONFIRM PLEASE]\n",
    "- `guest_recommendation` - How many guests that stayed here have recommended this hotels to others on the site.\n",
    "- `hotel_brand` - The chain that owns this hotel, if this hotel is part of a chain.\n",
    "- `hotel_category` - Two types : gostays, regular\n",
    "- `hotel_description` - A hotel description, as provided by the lister.\n",
    "- `hotel_facilities` - Doctor, Aiport Transfer, Laundry, Internet Access, and so on [EXPLORE FURTHER]\n",
    "- `hotel_star_rating` - The out-of-five star rating of this hotel.\n",
    "- `image_count` - The number of images provided with the listing.\n",
    "- `latitude`\n",
    "- `locality` - Same as area\n",
    "- `longitude`\n",
    "- `pageurl` - Link to the website e.g. goibibo.com, booking.com and cleartip.com\n",
    "- `point_of_interest` - Nearby locations of interest.\n",
    "- `property_name` - Name of the hotel/property\n",
    "- `property_type` - The type of property. Usually a resort, cottage, hotel, guest house and so on.\n",
    "- `province` - same as city [Confirmation one more time required]\n",
    "- `qts` - Crawl timestamp (Time of retrival from the website)\n",
    "- `query_time_stamp` - Copy of qts. \n",
    "- `review_count_by_category` - Reviews broken across several categories e.g. positive reviews, critical review\n",
    "- `room_area` - area of room in sq.ft.\n",
    "- `room_count` - number of room in the hotel\n",
    "- `room_facilities` - room service, bathroom, amenities, cable, air conditioning, satellite, and so on\n",
    "- `room_type` - deluxe room, standard room, standard room non-AC and so on\n",
    "- `similar_hotel` - url of similar hotel\n",
    "- `site_review_count` - The number of reviews for this hotel recieved on the website posted by users.\n",
    "- `site_review_rating` - The overall rating for this hotel by users (Average).\n",
    "- `site_stay_review_rating` - review for each facility/services\n",
    "- `sitename` - Either goibibo.com, booking.com, cleartrip.com\n",
    "- `state` - province\n",
    "- `uniq_id` - unique id from the website to the hotel\n",
    "\n"
   ]
  },
  {
   "cell_type": "markdown",
   "metadata": {},
   "source": [
    "### Importing the libraries\n"
   ]
  },
  {
   "cell_type": "code",
   "execution_count": null,
   "metadata": {},
   "outputs": [],
   "source": [
    "import sys #access to system parameters https://docs.python.org/3/library/sys.html\n",
    "print(\"Python version: {}\". format(sys.version))\n",
    "\n",
    "import IPython\n",
    "from IPython import display #pretty printing of dataframes in Jupyter notebook\n",
    "print(\"IPython version: {}\". format(IPython.__version__))\n",
    "\n",
    "import numpy as np #foundational package for scientific computing\n",
    "print(\"Numpy version: {}\". format(np.__version__))\n",
    "\n",
    "import pandas as pd #collection of functions for data processing and analysis modeled after R dataframes with sql like features\n",
    "print(\"Pandas version: {}\". format(pd.__version__))\n",
    "\n",
    "import matplotlib #collection of functions for scientific and publication-ready visualization\n",
    "print(\"Matplotlib version: {}\". format(matplotlib.__version__))\n",
    "\n",
    "import scipy as sp #collection of functions for scietific computing and advance mathematics\n",
    "print(\"Scipy version: {}\". format(sp.__version__))\n",
    "\n",
    "import sklearn #collection of machine learning algorithms\n",
    "print(\"Scikit learn version: {}\". format(sklearn.__version__))\n",
    "\n",
    "import seaborn as sns\n",
    "import matplotlib.pyplot as plt\n",
    "\n",
    "\n",
    "#ignore warnings\n",
    "import warnings\n",
    "warnings.filterwarnings('ignore')\n",
    "print('_'*30)\n",
    "\n",
    "\n",
    "\n",
    "import pandas as pd\n",
    "from IPython.display import display\n"
   ]
  },
  {
   "cell_type": "markdown",
   "metadata": {},
   "source": [
    "## Import Data\n",
    "\n",
    "#### There are three datasets that have to be merged vertically. Loading the three datasets as:"
   ]
  },
  {
   "cell_type": "markdown",
   "metadata": {},
   "source": [
    "### Absolute path Vibha\n"
   ]
  },
  {
   "cell_type": "code",
   "execution_count": null,
   "metadata": {},
   "outputs": [],
   "source": [
    "path = r\"C:\\Users\\vibha\\Desktop\\MP_Personal_JN\\Data\\/\"\n",
    "\n",
    "data_goibibo_com = pd.read_csv(path + \"goibibo_com-travel_sample.csv\")\n",
    "data_booking_com = pd.read_csv(path + \"booking_com-travel_sample.csv\")\n",
    "data_cleartrip_com = pd.read_csv(path + \"cleartrip_com-travel_sample.csv\")\n",
    "\n"
   ]
  },
  {
   "cell_type": "markdown",
   "metadata": {},
   "source": [
    "### Absolute path Kavya\n"
   ]
  },
  {
   "cell_type": "code",
   "execution_count": null,
   "metadata": {},
   "outputs": [],
   "source": [
    "path = \"C:\\Users\\kavya\\Documents\\4Th Sem\\documents_masterProj\\projectDataSet\\/\"\n",
    "\n",
    "\n",
    "data_goibibo_com = pd.read_csv(path + \"goibibo_com-travel_sample.csv\")\n",
    "data_booking_com = pd.read_csv(path + \"booking_com-travel_sample.csv\")\n",
    "data_cleartrip_com = pd.read_csv(path + \"cleartrip_com-travel_sample.csv\")\n"
   ]
  },
  {
   "cell_type": "markdown",
   "metadata": {},
   "source": [
    "### Relative path Tayyab"
   ]
  },
  {
   "cell_type": "code",
   "execution_count": null,
   "metadata": {},
   "outputs": [],
   "source": [
    "data_goibibo_com = pd.read_csv(\"./../data/goibibo_com-travel_sample.csv\")\n",
    "data_booking_com = pd.read_csv(\"./../data/booking_com-travel_sample.csv\")\n",
    "data_cleartrip_com = pd.read_csv(\"./../data/cleartrip_com-travel_sample.csv\")\n",
    "# display all columns\n",
    "#pd.options.display.max_columns = None"
   ]
  },
  {
   "cell_type": "code",
   "execution_count": null,
   "metadata": {},
   "outputs": [],
   "source": [
    "#### display all columns\n",
    "# pd.options.display.max_columns = None\n",
    "\n",
    "## preparation of goibibo dataframe\n",
<<<<<<< HEAD:kavTry.ipynb
    "data_goibibo_com = pd.read_csv(r\"C:\\Users\\kavya\\Documents\\4Th Sem\\documents_masterProj\\projectDataSet\\goibibo_com-travel_sample.csv\")\n",
    "data_goibibo_com['hotel_facilities'] =  data_goibibo_com['additional_info'] + data_goibibo_com['hotel_facilities']\n",
    "ibibo_cols_remove = ['additional_info','room_facilities','area','country','crawl_date','similar_hotel','uniq_id',\n",
=======
    "goibibo_cols_remove = ['additional_info','room_facilities','area','country','crawl_date','similar_hotel','uniq_id',\n",
>>>>>>> 3fc43a59998b6e83511cf53cdb5a7a02fbca4851:MP-Recommender-System.ipynb
    "                     'locality','province','qts','query_time_stamp','property_id','review_count_by_category','point_of_interest',\n",
    "                     'room_area','hotel_category','guest_recommendation','hotel_brand','room_facilities']\n",
    "data_goibibo_com = data_goibibo_com.drop(goibibo_cols_remove,axis=1)\n",
    "\n",
    "\n",
    "## preparation of booking dataframe\n",
<<<<<<< HEAD:kavTry.ipynb
    "data_booking_com = pd.read_csv(r\"C:\\Users\\kavya\\Documents\\4Th Sem\\documents_masterProj\\projectDataSet\\booking_com-travel_sample.csv\")\n",
=======
>>>>>>> 3fc43a59998b6e83511cf53cdb5a7a02fbca4851:MP-Recommender-System.ipynb
    "booking_cols_remove = ['country','crawl_date','property_id','province','qts','similar_hotel','zone',\n",
    "                       'special_tag','uniq_id','locality','hotel_brand']\n",
    "data_booking_com = data_booking_com.drop(booking_cols_remove, axis=1)\n",
    "\n",
    "\n",
    "## preparation of clear trip dataframe\n",
<<<<<<< HEAD:kavTry.ipynb
    "data_cleartrip_com = pd.read_csv(r\"C:\\Users\\kavya\\Documents\\4Th Sem\\documents_masterProj\\projectDataSet\\cleartrip_com-travel_sample.csv\")\n",
=======
>>>>>>> 3fc43a59998b6e83511cf53cdb5a7a02fbca4851:MP-Recommender-System.ipynb
    "data_cleartrip_com = data_cleartrip_com.rename(columns={'tad_review_count':'site_review_count','tad_review_rating':'site_review_rating',\n",
    "                              'tad_stay_review_rating':'site_stay_review_rating'})\n",
    "\n",
    "clearTrip_cols_remove = ['area','country','cleartrip_seller_rating','crawl_date','image_urls','landmark','locality','property_id',\n",
    "                        'province','qts','room_area','room_facilities','similar_hotel','tripadvisor_seller_rating','uniq_id','room_facilities'];\n",
    "data_cleartrip_com = data_cleartrip_com.drop(clearTrip_cols_remove,axis=1)\n",
    "\n"
   ]
  },
  {
   "cell_type": "markdown",
   "metadata": {},
   "source": [
    "## Identifying similar column in 2 datasets goibibo and booking ( Kavya)"
   ]
  },
  {
   "cell_type": "code",
   "execution_count": null,
   "metadata": {},
   "outputs": [],
   "source": [
    "goibibo_cols = data_goibibo_com.columns.values.tolist()\n",
    "booking_cols = data_booking_com.columns.values.tolist()\n",
    "\n",
    "def same_cols_list_func(goibibo_cols, booking_cols):\n",
    "    same_cols = [i for i in goibibo_cols + booking_cols if i in goibibo_cols or i in booking_cols] \n",
    "    return same_cols\n",
    "\n",
    "same_cols_list = same_cols_list_func(goibibo_cols,booking_cols)\n",
    "\n",
    "same_cols_list"
   ]
  },
  {
   "cell_type": "markdown",
   "metadata": {},
   "source": [
    "## Identifying dissimilar column in 2 datasets goibibo and booking"
   ]
  },
  {
   "cell_type": "code",
   "execution_count": null,
   "metadata": {},
   "outputs": [],
   "source": [
    "def diff_cols_list_func(goibibo_cols, booking_cols):\n",
    "    diff_cols = [i for i in goibibo_cols + booking_cols if i not in goibibo_cols or i not in booking_cols] \n",
    "    return diff_cols\n",
    "\n",
    "diff_cols_list = diff_cols_list_func(goibibo_cols,booking_cols)\n",
    "\n",
    "diff_cols_list"
   ]
  },
  {
   "cell_type": "markdown",
   "metadata": {},
   "source": [
    "## Handling dtype issues\n",
    "#### Identifying differences in dtypes"
   ]
  },
  {
   "cell_type": "code",
   "execution_count": null,
   "metadata": {},
   "outputs": [],
   "source": [
    "for i_col in goibibo_cols:\n",
    "    if(data_goibibo_com[i_col].dtype != data_booking_com[i_col].dtype):\n",
    "        print(data_goibibo_com[i_col].name,data_goibibo_com[i_col].dtype)\n",
    "        print(data_booking_com[i_col].name,data_booking_com[i_col].dtype)\n",
    "        print('--xx--')"
   ]
  },
  {
   "cell_type": "markdown",
   "metadata": {},
   "source": [
    "## handling string to number and regular expression errors "
   ]
  },
  {
   "cell_type": "code",
   "execution_count": null,
   "metadata": {},
   "outputs": [],
   "source": [
    "print(data_booking_com['site_review_count'].dtype)\n",
    "data_booking_com['site_review_count'] = data_booking_com['site_review_count'].replace('\\,','',regex=True).astype(float)\n",
    "print(data_booking_com['site_review_count'].dtype)\n",
    "\n",
    "print('--xx--')\n",
    "\n",
    "print(data_booking_com['hotel_star_rating'].dtype)\n",
    "data_booking_com['hotel_star_rating'] = data_booking_com['hotel_star_rating'].str.extract('(\\d+)')\n",
    "data_booking_com['hotel_star_rating'] = pd.to_numeric(data_booking_com['hotel_star_rating'])\n",
    "print(data_booking_com['hotel_star_rating'].dtype)"
   ]
  },
  {
   "cell_type": "markdown",
   "metadata": {},
   "source": [
    "### Casting identified disimilar dtypes of columns  to common type in dataframes"
   ]
  },
  {
   "cell_type": "code",
   "execution_count": null,
   "metadata": {},
   "outputs": [],
   "source": [
    "col_dataTypeFix = {\n",
    "    'hotel_star_rating' : float,\n",
    "    'image_count' : float,\n",
    "    'room_count' : float,\n",
    "    'site_review_count' : float\n",
    "}\n",
    "\n",
    "data_goibibo_com.astype(col_dataTypeFix)\n",
    "data_booking_com.astype(col_dataTypeFix)"
   ]
  },
  {
   "cell_type": "markdown",
   "metadata": {},
   "source": [
    "### Merging two datasets goibibo and booking DF"
   ]
  },
  {
   "cell_type": "code",
   "execution_count": null,
   "metadata": {},
   "outputs": [],
   "source": [
    "data_goibibo_booking = data_goibibo_com.append(data_booking_com,ignore_index = True, sort = False)\n",
    "data_goibibo_booking.columns.values.tolist()"
   ]
  },
  {
   "cell_type": "markdown",
   "metadata": {},
   "source": [
    "### Handling Dtype Issues in Clear Trip"
   ]
  },
  {
   "cell_type": "code",
   "execution_count": null,
   "metadata": {},
   "outputs": [],
   "source": [
    "ibibo_booking_cols = data_goibibo_booking.columns.values.tolist()\n",
    "clear_cols = data_cleartrip_com.columns.values.tolist()\n",
    "\n",
    "for i_b_col in ibibo_booking_cols:\n",
    "    if(data_goibibo_booking[i_b_col].dtype != data_cleartrip_com[i_b_col].dtype):\n",
    "        print(data_goibibo_booking[i_b_col].name,data_goibibo_booking[i_b_col].dtype)\n",
    "        print(data_cleartrip_com[i_b_col].name,data_cleartrip_com[i_b_col].dtype)\n",
    "        print('--xx--')"
   ]
  },
  {
   "cell_type": "code",
   "execution_count": null,
   "metadata": {},
   "outputs": [],
   "source": [
    "print(data_cleartrip_com['hotel_star_rating'].dtype)\n",
    "data_cleartrip_com['hotel_star_rating'] = data_cleartrip_com['hotel_star_rating'].str.extract('(\\d+)')\n",
    "data_cleartrip_com['hotel_star_rating'] = pd.to_numeric(data_booking_com['hotel_star_rating'])\n",
    "print(data_cleartrip_com['hotel_star_rating'].dtype)"
   ]
  },
  {
   "cell_type": "code",
   "execution_count": null,
   "metadata": {},
   "outputs": [],
   "source": [
    "clearTrip_dataTypeFix = {\n",
    "    'hotel_star_rating' : float,\n",
    "    'image_count' : float,\n",
    "    'room_count' : float\n",
    "}\n",
    "\n",
    "data_cleartrip_com.astype(clearTrip_dataTypeFix)"
   ]
  },
  {
   "cell_type": "markdown",
   "metadata": {},
   "source": [
    "## Merging the three datasets"
   ]
  },
  {
   "cell_type": "code",
   "execution_count": null,
   "metadata": {},
   "outputs": [],
   "source": [
    "data_goibibo_booking_clear = data_goibibo_booking.append(data_cleartrip_com, ignore_index=True, sort=False)\n",
    "\n",
    "data_goibibo_booking_clear.columns.values.tolist()\n",
    "\n",
    "data = data_goibibo_booking_clear\n",
    "\n",
    "data\n"
   ]
  },
  {
   "cell_type": "markdown",
   "metadata": {},
   "source": [
    "#### tyab code"
   ]
  },
  {
   "cell_type": "code",
   "execution_count": null,
   "metadata": {},
   "outputs": [],
   "source": [
    "\n",
    "# sorting data_goibibo_com by the column name\n",
    "\n",
    "data_goibibo_com.reindex(sorted(data_goibibo_com.columns), axis=1)\n",
    "data_goibibo_cols = data_goibibo_com.columns\n",
    "print(data_goibibo_cols)\n",
    "\n",
    "# sorting data_booking_com by the column name\n",
    "\n",
    "data_booking_com.reindex(sorted(data_booking_com.columns), axis=1)\n",
    "data_booking_cols = data_booking_com.columns\n",
    "print(data_booking_cols)\n",
    "\n",
    "# sorting data_cleartip_com by the column name\n",
    "\n",
    "data_cleartrip_com.reindex(sorted(data_cleartrip_com.columns), axis=1)\n",
    "data_cleartrip_cols = data_cleartrip_com.columns\n",
    "print(data_cleartrip_cols)"
   ]
  },
  {
   "cell_type": "code",
   "execution_count": null,
   "metadata": {},
   "outputs": [],
   "source": [
    "data_goibibo_com.head(2)\n"
   ]
  },
  {
   "cell_type": "code",
   "execution_count": null,
   "metadata": {},
   "outputs": [],
   "source": [
    "data_booking_com.head(2)\n"
   ]
  },
  {
   "cell_type": "code",
   "execution_count": null,
   "metadata": {},
   "outputs": [],
   "source": [
    "data_cleartrip_com.head(2)\n"
   ]
  },
  {
   "cell_type": "markdown",
   "metadata": {},
   "source": [
    "## Feature Selection - manual (domain knowledge and intuition)\n",
    "\n",
    "==============================================================================================================\n",
    "\n",
    "\n",
    "| Excluded Column         | Included Feature           | Derived Feature   |   Potential Feature (Unsure) **|\n",
    "| -------------           |:--------------------------:| -----------------:|-------------------------------:|\n",
    "| crawl_date              | city                       |         *         | hotel_brand                    |\n",
    "| country                 | guest recommendation       |         *         | hotel_category                 |\n",
    "| area/zone               | hotel_facilities ->        |         *         | hotel_description              |\n",
    "| locality                | additional_info ->         |         *         | address                        |\n",
    "| property_Id             | hotel_star_rating          |         *         | image_count                    |\n",
    "| province                | property_type              |         *         | latitude/longitude (end result)|\n",
    "| qts                     | site_review_count          |         *         | Pageurl (end result)           |\n",
    "| query_time_stamp        | room count                 |         *         | point_of_interest->            |\n",
    "| similar_hotel           | room facilities            |         *         | Property_name(end results)     |\n",
    "| review_count_by_category| room type                  |         *         | property_type(booking.com)     |\n",
    "| sitename                | room area                  |         *         | state (end result)             |\n",
    "| uniq_id                 | site_review_rating         |         *         |                                |\n",
    "| special_tagl            | site_stay_review_rating->* |         *         |                                |\n",
    "\n"
   ]
  },
  {
   "cell_type": "code",
   "execution_count": null,
   "metadata": {},
   "outputs": [],
   "source": [
    "def shape_of_datasets(*datasets):\n",
    "    \"\"\"Returns the shape of datasets\"\"\"\n",
    "    return datasets[0].shape, datasets[1].shape, datasets[2].shape\n",
    "\n",
    "shape_of_datasets(data_goibibo_com, data_booking_com, data_cleartrip_com)"
   ]
  },
  {
   "cell_type": "code",
   "execution_count": null,
   "metadata": {},
   "outputs": [],
   "source": [
    "# Comparing the two datasets\n",
    "def compare_datasets(*datasets):\n",
    "    return datasets[0].equals(datasets[1]), datasets[1].equals(datasets[2]), datasets[0].equals(datasets[2])\n",
    "\n",
    "compare_datasets(data_goibibo_com, data_booking_com, data_cleartrip_com)"
   ]
  },
  {
   "cell_type": "markdown",
   "metadata": {},
   "source": [
    "## Common Columns assessment\n",
    "\n",
    "Find the same columns in each dataset and on which column number each one lies "
   ]
  },
  {
   "cell_type": "code",
   "execution_count": null,
   "metadata": {
    "scrolled": false
   },
   "outputs": [],
   "source": [
    "# Finding the indices where does which columns lie\n",
    "import pprint\n",
    "\n",
    "\"\"\"\n",
    "get_scwci = get_same_columns_with_column_index\n",
    "\"\"\"\n",
    "\n",
    "# This dictioanry will help in reshuffling of the columns if needed\n",
    "same_cols_with_ind = {'goibibo_com': {}, 'booking_com': {}, 'cleartrip_com': {}}\n",
    "\n",
    "def get_scwci(df1, df2, df3):\n",
    "    \"\"\"Get same columns with column indices.\"\"\"\n",
    "    same_cols = []\n",
    "\n",
    "    for ind_df1, col_name_df1 in enumerate(df1.columns):\n",
    "        for ind_df2, col_name_df2 in enumerate(df2.columns):\n",
    "            if col_name_df1 == col_name_df2:\n",
    "                for ind_df3, col_name_df3 in enumerate(df3.columns):\n",
    "                    if col_name_df1 == col_name_df3:\n",
    "                        print(\"SAME: \" + str(ind_df1) + \"    '\" + col_name_df1 + \"' \\\n",
    "                        \"+ \"\" + str(ind_df2) + \"     '\" + col_name_df2 + \"'\" \\\n",
    "                        + \"     \" +str(ind_df3) + \"     '\" + col_name_df3 + \"'\")\n",
    "                        same_cols.append(col_name_df1)\n",
    "                        same_cols_with_ind['goibibo_com'][ind_df1] = col_name_df1\n",
    "                        same_cols_with_ind['booking_com'][ind_df2] = col_name_df2\n",
    "                        same_cols_with_ind['cleartrip_com'][ind_df3] = col_name_df3\n",
    "                    \n",
    "    return same_cols, \"\\nNumber of common columns: \" + str(len(same_cols))\n",
    "\n",
    "print(get_scwci(data_goibibo_com, data_booking_com, data_cleartrip_com))\n",
    "print(\"\\n===***===***===***===***===***===***===***===***===***===***===***\\n\")\n",
    "\n",
    "pp = pprint.PrettyPrinter(indent=4)\n",
    "pp.pprint(same_cols_with_ind)\n"
   ]
  },
  {
   "cell_type": "markdown",
   "metadata": {},
   "source": [
    "### Included, Potenatial and Excluded Columns in Goibibo data \n",
    "\n",
    "Goibibo is the reference of the datasets\n",
    "\n",
    "### pick points later"
   ]
  },
  {
   "cell_type": "code",
   "execution_count": null,
   "metadata": {},
   "outputs": [],
   "source": [
    "included_features_goi = ['guest_recommendation', 'city', 'hotel_facilities',  \\\n",
    "                         'hotel_star_rating', 'site_review_count', 'room_count', \\\n",
    "                         'room_facilities', 'room_type', 'site_review_rating', \\\n",
    "                         'site_stay_review_rating','sitename' ]\n",
    "\n",
    "potential_features_goi = ['hotel_brand', 'hotel_category', 'hotel_description', 'address', \\\n",
    "                          'image_count', 'latitude', 'longitude', 'pageurl', 'point_of_interest', \\\n",
    "                          'property_name', 'property_type', 'state', 'room_area']\n",
    "\n",
    "discarded_columns_goi = [\"crawl_date\", \"country\", \"area\", \"locality\", \"property_id\", \"province\", \\\n",
    "                        \"qts\", \"query_time_stamp\", \"similar_hotel\", \"review_count_by_category\", \\\n",
    "                        \"uniq_id\",\"additional_info\"]\n",
    "\n",
    "inc_poten_features = included_features_goi + potential_features_goi\n",
    "all_cols = inc_poten_features + discarded_columns_goi\n",
    "\n",
    "print(sorted(all_cols) == sorted(list(data_goibibo_com.columns)))"
   ]
  },
  {
   "cell_type": "code",
   "execution_count": null,
   "metadata": {},
   "outputs": [],
   "source": [
    "# Columns that are common in goibibo.com, booking.com and cleartrip.com\n",
    "# Columns that part of goibibo\n",
    "\n",
    "common_cols = sorted(set(all_cols).intersection(set(data_booking_cols).intersection(set(data_cleartrip_cols))))\n",
    "different_cols = sorted(set(all_cols).difference(set(data_booking_cols).difference(set(data_cleartrip_cols))))\n",
    "\n",
    "print(\"COMMOM COLUMNS\")\n",
    "print(common_cols)\n",
    "print(len(common_cols))\n",
    "print(\"Columns that are in goibibo.com and missing in booking.com\")\n",
    "print(different_cols)\n",
    "print(len(different_cols))"
   ]
  },
  {
   "cell_type": "code",
   "execution_count": null,
   "metadata": {},
   "outputs": [],
   "source": [
    "# The otherway around\n",
    "# all_cols = data_goibibo_com.columns\n",
    "\n",
    "common_cols = set(data_booking_cols).intersection(set(all_cols))\n",
    "print(common_cols)\n",
    "print(len(common_cols))\n",
    "common_cols = set(common_cols).intersection(set(data_cleartrip_cols))\n",
    "\n",
    "different_cols = set(data_booking_cols).difference(set(all_cols).difference(set(data_cleartrip_cols)))\n",
    "\n",
    "print(\"COMMOM COLUMNS\")\n",
    "print(common_cols)\n",
    "print(len(common_cols))\n",
    "print(\"Columns that are in booking.com and missing in goibibo.com\")\n",
    "print(different_cols)\n",
    "print(len(different_cols))\n"
   ]
  },
  {
   "cell_type": "code",
   "execution_count": null,
   "metadata": {},
   "outputs": [],
   "source": [
    "# [col for col in common_cols if col in included_features_goi]\n",
    "print(common_cols.intersection(included_features_goi))\n",
    "print(common_cols.intersection(potential_features_goi))"
   ]
  },
  {
   "cell_type": "code",
   "execution_count": null,
   "metadata": {},
   "outputs": [],
   "source": [
    "d = [data_goibibo_cols, data_booking_cols, data_cleartrip_cols]\n",
    "set(d[0]).intersection(*d)"
   ]
  },
  {
   "cell_type": "markdown",
   "metadata": {},
   "source": [
    "In the below cell I have merged the three datasets but I have remove the index and give another index\n",
    "Rename similar columns and remove those which are not necessary.\n",
    "\n",
    "\n",
    "# Merge the datasets [goibibo, booking, cleartrip]\n"
   ]
  },
  {
   "cell_type": "code",
   "execution_count": null,
   "metadata": {},
   "outputs": [],
   "source": [
    "data = data_goibibo_com.append(data_booking_com, sort=False).append(data_cleartrip_com, sort=False)\n",
    "data.reset_index(drop=True, inplace=True)"
   ]
  },
  {
   "cell_type": "markdown",
   "metadata": {},
   "source": [
    "##### Drop the columns that have been added to `hotel_facilities`.\n"
   ]
  },
  {
   "cell_type": "code",
   "execution_count": null,
   "metadata": {},
   "outputs": [],
   "source": [
    "print(data.columns)\n",
    "print(len(data.columns))\n"
   ]
  },
  {
   "cell_type": "markdown",
   "metadata": {},
   "source": [
    "`'address'`, `'area'`, `'city'`, `'country'`, `'crawl_date'`,\n",
    "`'guest_recommendation'`, `'hotel_brand'`, `'hotel_category'`,\n",
    "`'hotel_description'`, `'hotel_facilities'`, `'hotel_star_rating'`,\n",
    "`'image_count'`, `'latitude'`, `'locality'`, `'longitude'`, `'pageurl'`,\n",
    "`'point_of_interest'`, `'property_id'`, `'property_name'`, `'property_type'`,\n",
    "`'province'`, `'qts'`, `'query_time_stamp'`, `'review_count_by_category'`,\n",
    "`'room_area'`, `'room_count'`, `'room_type'`, `'similar_hotel'`,\n",
    "`'site_review_count'`, `'site_review_rating'`, `'site_stay_review_rating'`,\n",
    "`'sitename'`, `'state'`, `'uniq_id'`, `'special_tag'`, `'zone'`,\n",
    "`'cleartrip_seller_rating'`, `'image_urls'`, `'landmark'`,\n",
    "`'tripadvisor_seller_rating']`,\n",
    "\n",
    "\n",
    "OUT OF THE ABOVE BELOW ARE NOT INCLUDED FEATURES SO we would drop them out:\n",
    "\n",
    "`'area'`, `'cleartrip_seller_rating'`, `'country'`, `'crawl_date'`, `'image_urls'`, `'locality'`, `'landmark'`, `'property_id'`, `'province'`, `'qts'`, `'query_time_stamp'`, `'similar_hotel'`, `'sitename'`,\n",
    "`'special_tag'`, `'tripadvisor_seller_rating'`, `'uniq_id'`, `'zone'`\n"
   ]
  },
  {
   "cell_type": "markdown",
   "metadata": {},
   "source": [
    "`'city'`,\n",
    "` 'hotel_brand'`,\n",
    "` 'hotel_description'`,\n",
    "` 'hotel_facilities'`,\n",
    "` 'hotel_star_rating'`,\n",
    "` 'image_count'`,\n",
    "` 'latitude'`,\n",
    "` 'longitude'`,\n",
    "` 'pageurl'`,\n",
    "` 'property_name'`,\n",
    "` 'property_type'`,\n",
    "` 'room_count'`,\n",
    "` 'room_type'`,\n",
    "` 'site_review_count'`,\n",
    "` 'site_review_rating'`,\n",
    "` 'site_stay_review_rating'`,\n",
    "` 'sitename'`,\n",
    "` 'state'`,\n",
    "` 'city'`,\n",
    "` 'hotel_brand'`,\n",
    "` 'hotel_description'`,\n",
    "` 'hotel_facilities'`,\n",
    "` 'hotel_star_rating'`,\n",
    "` 'image_count'`,\n",
    "` 'latitude'`,\n",
    "` 'longitude'`,\n",
    "` 'pageurl'`,\n",
    "` 'property_name'`,\n",
    "` 'property_type'`,\n",
    "` 'room_count'`,\n",
    "` 'room_type'`,\n",
    "` 'site_review_count'`,\n",
    "` 'site_review_rating'`,\n",
    "` 'site_stay_review_rating'`,\n",
    "` 'sitename'`,\n",
    "` 'state'`"
   ]
  },
  {
   "cell_type": "code",
   "execution_count": null,
   "metadata": {},
   "outputs": [],
   "source": [
    "print(data.columns)\n",
    "print(len(data.columns))\n",
    "\n"
   ]
  },
  {
   "cell_type": "markdown",
   "metadata": {},
   "source": [
    "## Null values"
   ]
  },
  {
   "cell_type": "code",
   "execution_count": null,
   "metadata": {},
   "outputs": [],
   "source": [
    "data.isnull().sum()"
   ]
  },
  {
   "cell_type": "markdown",
   "metadata": {},
   "source": [
    "## Removing columns based on the number of missing values\n",
    "\n",
    "\n",
    "   - `guest_recommendation` : 12584 missing values\n",
    "   - `hotel_brand`: 13299 missing values \n",
    "   - `hotel_category`: 11000 missing values \n",
    "   - `point_of_interest`: 11240 missing values \n",
    "   - `review_count_by_category`: 12585 missing values \n",
    "   - `room_area`: 13240 missing values \n",
    "\n"
   ]
  },
  {
   "cell_type": "code",
   "execution_count": null,
   "metadata": {},
   "outputs": [],
   "source": [
    "data.head()"
   ]
  },
  {
   "cell_type": "markdown",
   "metadata": {},
   "source": [
    "### Merged Data: Excluded, Included, Derived, Potential\n",
    "\n",
    "                                               Final Data table:\n",
    "\n",
    "| Excluded Column          | Included Feature           | Derived Feature   |   Potential Feature (Unsure) **|\n",
    "| -------------            |:--------------------------:| ----------------: |-------------------------------:|\n",
    "| crawl_date               | city                       |         *         | address                        |\n",
    "| country                  | hotel_facilities ->        |         *         | image_count                    |\n",
    "| area                     | hotel_star_rating          |         *         | hotel_description              |\n",
    "| locality                 | property_type              |         *         |                -               |\n",
    "| property_id              | property_name (end result) |         *         |                -               |\n",
    "| province                 | pageurl (end result)       |         *         |                -               |\n",
    "| qts                      | latitude (end result)      |         *         |                -               |\n",
    "| query_time_stamp         | longitude (end result)     |         *         |                -               |\n",
    "| similar_hotel            | room_count                 |         *         |                -               |\n",
    "| guest_recommendation     | room_type                  |         *         |                -               |\n",
    "| sitename                 | site_review_count          |         *         |                -               |\n",
    "| uniq_id                  | site_review_rating         |         *         |                -               |\n",
    "| special_tag              | site_stay_review_rating->* |         *         |                -               |\n",
    "| hotel_brand              | state (end result)         |         *         |                -               |\n",
    "| hotel_category           |             -              |         -         |                -               |\n",
    "| point_of_interest        |             -              |         -         |                -               |\n",
    "| review_count_by_category |             -              |         -         |                -               |\n",
    "| room_area                |             -              |         -         |                -               |\n",
    "| cleartrip_seller_rating  |             -              |         -         |                -               |\n",
    "| tripadvisor_seller_rating|             -              |         -         |                -               |\n",
    "| zone                     |             -              |         -         |                -               |\n",
    "| image_urls               |             -              |         -         |                -               |\n",
    "| landmark                 |             -              |         -         |                -               |\n",
    "\n",
    "\n",
    "## Included Features\n",
    "\n",
    "\n",
    "| Included Feature            | Definition                                                        |\n",
    "| --------------------------- |:-----------------------------------------------------------------:|\n",
    "| **city**                    |                                                                   |\n",
    "| **hotel_facilities**        | Doctor, Aiport Transfer, Laundry, Internet Access, and so on      |\n",
    "| **hotel_star_rating**       | Out-of-five star rating of this hotel                             |\n",
    "| **property_type**           |\tUsually a resort, hotel, guest house, etc.                        |\n",
    "| **property_name**           |\tName of the hotel/property \t                                      |\n",
    "| **pageurl**                 | Link to the website e.g. goibibo.com, etc.                        |\n",
    "| **latitude**                | Latitude of location                                              |\n",
    "| **longitude**               | Longitude of location                                             |\n",
    "| **room_count **             | Number of rooms in a hotel                                        |\n",
    "| **room_type**               |\tType of room                                                      |\n",
    "| **room_area**               | Area of room in sq.ft.                                            |\n",
    "| **site_review_count**       |\tNumber of reviews for this hotel recieved on the website       \t  |\n",
    "| **site_review_rating**      | The overall rating for this hotel by users (Average)              |\n",
    "| **site_stay_review_rating** | review for each facility/services\n",
    "\n",
    "\n",
    "\n",
    "### Potential Features\n",
    "\n",
    "\n",
    "| Variable                    | Definition                         | Key                  |\n",
    "| -------------               |:-------------:                     | --------------------:|\n",
    "| **address**                 | address of the hotel               |           -          |\n",
    "| **image_count**             | # of images listed on website      |           -          |\n",
    "| **hotel_description**       | number b/w 1 - 100                 | 1 = min, 100 = max   |\n",
    "\n",
    "\n",
    "\n",
    "### Excluded Features\n",
    "\n",
    "| Excluded Column               | Definition                                         |\n",
    "| ------------------------------|:--------------------------------------------------:|\n",
    "| **area**                      | The sub-city region, geographically                |\n",
    "| **cleartrip_seller_rating**   | Website seller rating                              |\n",
    "| **crawl_date**                | Date on which data was crawled                     |\n",
    "| **guest_recommendation**      | Guests recommended this hotels to others           |\n",
    "| **hotel_brand**               | The chain that owns this hotel                     |\n",
    "| **hotel_category**            | Two types : gostays, regular                       |\n",
    "| **point_of_interest**         | Nearby locations of interest                       |\n",
    "| **image_urls**                | Link to images of the property                     |\n",
    "| **locality**                  | Same as area                                       |\n",
    "| **landmark**                  | Nearest landmark                                   |\n",
    "| **property_id**               | Website id                                         |\n",
    "| **province**                  | Same as city                                       |\n",
    "| **qts**                       | Time at which data was queried                     |\n",
    "| **query_time_stamp**          | Same as above                                      |\n",
    "| **review_count_by_category**  | E.g. positive reviews, critical review             |\n",
    "| **room_area**                 | Area of room in sq.ft.                             |\n",
    "| **similar_hotel**             | Similar hotel URL                                  |\n",
    "| **sitename**                  | sitename is always like goibibo, etc.              |\n",
    "| **special_tag**               | E.g. Shared, for couple, etc.                      |\n",
    "| **tripadvisor_seller_rating** | Tripadvisor rating                                 |\n",
    "| **uniq_id**                   | unique_id from the website                         |\n",
    "| **zone**                      | Same as area                                       |\n",
    "\n"
   ]
  },
  {
   "cell_type": "markdown",
   "metadata": {},
   "source": [
    "## Drop missing values\n",
    "\n",
    "### Drop all the rows that has these five cols missing\n",
    "\n",
    "Multiple cols that are important for our hypothesis are missing values simulataneaously. Below are the"
   ]
  },
  {
   "cell_type": "code",
   "execution_count": null,
   "metadata": {},
   "outputs": [],
   "source": [
    "# Make a dataframe of the values that has latitude or longitude value as NaN\n",
    "mask_latlong_nans = (data['latitude'].isnull()) | (data['longitude'].isnull())\n",
    "\n",
    "#dataframe of latitude and longitude NaN values\n",
    "df_latlong_nans = data[mask_latlong_nans]\n",
    "display(df_latlong_nans.shape)\n",
    "#display(df_latlong_nans)\n",
    "\n",
    "# Remove the latitude and longitude NaN values from the dataframe\n",
    "df = data[~mask_latlong_nans]\n",
    "df.shape\n"
   ]
  },
  {
   "cell_type": "markdown",
   "metadata": {},
   "source": [
    "#### Change `site_review_count` datatype from object to numeric\n"
   ]
  },
  {
   "cell_type": "code",
   "execution_count": null,
   "metadata": {},
   "outputs": [],
   "source": [
    "# convert type of site_review_count from object to numeric\n",
    "df['site_review_count'] = pd.to_numeric(df['site_review_count'], errors='coerce')\n"
   ]
  },
  {
   "cell_type": "code",
   "execution_count": null,
   "metadata": {},
   "outputs": [],
   "source": [
    "# get the data of the missing values of the multiple columns\n",
    "\n",
    "missing_multi_cols_values = df[df.address.isna() & \\\n",
    "                               df.hotel_facilities.isna() & \\\n",
    "                               df.property_name.isna()  & \\\n",
    "                               df.site_review_count.isna() & \\\n",
    "                               df.site_stay_review_rating.isna()]\n",
    "\n",
    "#display(df.head(10))\n",
    "display(df.shape)\n",
    "display(missing_multi_cols_values.shape)\n",
    "\n",
    "df = df[~df.address.isna() |\\\n",
    "   ~df.hotel_facilities.isna() | \\\n",
    "   ~df.property_name.isna()  |\\\n",
    "   ~df.site_review_count.isna() | \\\n",
    "   ~df.site_stay_review_rating.isna()]\n",
    "\n",
    "display(df.shape)\n",
    "\n",
    "# the code in this column could be exempted but I kept it for fun since its another \n",
    "# approach that is done in a few cells below\n",
    "\n"
   ]
  },
  {
   "cell_type": "markdown",
   "metadata": {},
   "source": [
    "For any rows where `site_review_count`, `site_review_rating` is a `NaN`, its `site_stay_review_rating` is also null, although the text is written but there is no numbering to it. Since `site_stay_review_rating` can further be split in 6 columns of its own, a total of review features would `>=` 8, which is big number of column values missing. That is why I would drop the whole row.\n",
    "\n",
    "\n",
    "### Drop `[site_review_count` , `site_review_rating]` with NaNs\n"
   ]
  },
  {
   "cell_type": "code",
   "execution_count": null,
   "metadata": {},
   "outputs": [],
   "source": [
    "# Drop rows if 'site_review_count', 'site_review_rating' are NaNs\n",
    "df.dropna(subset=['site_review_count', 'site_review_rating'], how='all', axis='rows', inplace=True)\n",
    "display(df.shape)\n"
   ]
  },
  {
   "cell_type": "markdown",
   "metadata": {},
   "source": [
    "### Drop `site_stay_review_rating` with NaNs\n"
   ]
  },
  {
   "cell_type": "code",
   "execution_count": null,
   "metadata": {},
   "outputs": [],
   "source": [
    "# Drop rows if 'site_stay_review_rating' are NaNs\n",
    "df.dropna(subset=['site_stay_review_rating'], axis='rows', inplace=True)\n",
    "display(df.shape)\n"
   ]
  },
  {
   "cell_type": "markdown",
   "metadata": {},
   "source": [
    "### Drop `hotel_facilities` with NaNs\n"
   ]
  },
  {
   "cell_type": "code",
   "execution_count": null,
   "metadata": {},
   "outputs": [],
   "source": [
    "# Drop rows if ['hotel_facilites']\n",
    "df.dropna(subset=['hotel_facilities'], axis='rows', inplace=True)\n",
    "display(df.shape)"
   ]
  },
  {
   "cell_type": "markdown",
   "metadata": {},
   "source": [
    "# Working with rows that are duplicate for specific columns\n",
    "\n",
    "### drop the rows that has same latitude and longitude while keeping the first only."
   ]
  },
  {
   "cell_type": "code",
   "execution_count": null,
   "metadata": {},
   "outputs": [],
   "source": [
    "# Find the dulpicate entries in the selected column, sort it and display it.\n",
    "display(len(df[df.duplicated(subset=['latitude', 'longitude'])].sort_values(by=['property_name'])))\n",
    "display(df[df.duplicated(subset=['latitude', 'longitude'])].sort_values(by=['property_name']))\n"
   ]
  },
  {
   "cell_type": "code",
   "execution_count": null,
   "metadata": {},
   "outputs": [],
   "source": [
    "data.shape"
   ]
  },
  {
   "cell_type": "markdown",
   "metadata": {},
   "source": [
    "### Groupby to see how many unique and how many duplicates are there based on ['longitude', 'latitude']\n"
   ]
  },
  {
   "cell_type": "code",
   "execution_count": null,
   "metadata": {},
   "outputs": [],
   "source": [
    "df_duplicate = data.groupby(['longitude', 'latitude']).size().reset_index(name='count')\n",
    "display(df_duplicate.head(50))\n",
    "display(df_duplicate.tail(50))\n",
    "display(df_duplicate.shape)\n"
   ]
  },
  {
   "cell_type": "markdown",
   "metadata": {},
   "source": [
    "## Drop Duplicates of `latitude`, `longitude`\n",
    "\n",
    "I am sorting `site_review_count` and `hotel_facilities` by because I dont want the maximum values of these columns to be dropped. Rather its the best to drop less_than_maximum values or NaNs. The rest are important for our results.\n"
   ]
  },
  {
   "cell_type": "code",
   "execution_count": null,
   "metadata": {},
   "outputs": [],
   "source": [
    "# removing latitude and longitude of duplicates now\n",
    "df = df.sort_values(by=['site_review_count', 'hotel_facilities'], ascending=False)\\\n",
    "    .drop_duplicates(subset=['latitude', 'longitude'], keep='first').sort_index()\n",
    "display(df.shape)\n",
    "display(df.head(5))\n",
    "display(df.tail(5))\n"
   ]
  },
  {
   "cell_type": "code",
   "execution_count": null,
   "metadata": {},
   "outputs": [],
   "source": [
    "display(df.isna().sum())\n"
   ]
  },
  {
   "cell_type": "markdown",
   "metadata": {},
   "source": [
    "## Concatenate the two splits of the dataframe, `df` + `df_latlong_nans`\n",
    "\n",
    "So from the above it is clear that `drop_duplicates` would delete the rows of NaNs in the respective columns. Since I already made a data frame of those rows, lets concatenate it.\n"
   ]
  },
  {
   "cell_type": "code",
   "execution_count": null,
   "metadata": {},
   "outputs": [],
   "source": [
    "frames = [df, df_latlong_nans]\n",
    "df = pd.concat(frames)\n",
    "\n",
    "display(df.shape)\n",
    "display(df.head(1))\n",
    "display(df.tail(1))\n",
    "display(df.isna().sum())\n"
   ]
  },
  {
   "cell_type": "markdown",
   "metadata": {},
   "source": [
    "Since we have not more duplicate `latitude` `longitude` except the `NaNs`. So possible distinguishers are: `city`, `address`, `property_name` and `property_type`.\n",
    "\n",
    "So lets find the similar `address`es.\n"
   ]
  },
  {
   "cell_type": "code",
   "execution_count": null,
   "metadata": {},
   "outputs": [],
   "source": [
    "# Drop rows if 'site_review_count', 'site_review_rating' are NaNs\n",
    "df.dropna(subset=['site_review_count', 'site_review_rating'], how='all', axis='rows', inplace=True)\n",
    "display(df.shape)\n",
    "display(df.info())\n",
    "\n",
    "# Drop rows if 'site_stay_review_rating' are NaNs\n",
    "df.dropna(subset=['site_stay_review_rating'], axis='rows', inplace=True)\n",
    "display(df.shape)\n",
    "display(df.info())\n",
    "\n",
    "# Drop rows if ['hotel_facilites']\n",
    "df.dropna(subset=['hotel_facilities'], axis='rows', inplace=True)\n",
    "display(df.shape)\n",
    "display(df.info())\n",
    "display(df.head(5))\n",
    "display(df.tail(5))"
   ]
  },
  {
   "cell_type": "markdown",
   "metadata": {},
   "source": [
    "## Some `address`es are duplicate but they are not full address and `property_name`s are different. THEREFORE NOT SURE WHAT TO DO WITH IT. \n",
    "\n",
    "# Therefore I'll leave it for now\n",
    "\n"
   ]
  },
  {
   "cell_type": "markdown",
   "metadata": {},
   "source": [
    "###  Splitting site stay review rating column to individual column - Kavya"
   ]
  },
  {
   "cell_type": "code",
   "execution_count": null,
   "metadata": {},
   "outputs": [],
   "source": [
    "df.insert(1,'Service_quality',0)\n",
    "df.insert(2,'Amenities',0)\n",
    "df.insert(3,'Food_and_drinks',0)\n",
    "df.insert(4,'Value_for_money',0)\n",
    "df.insert(5,'Location',0)\n",
    "df.insert(6,'Cleanliness',0)\n",
    "\n",
    "def extractNumericValue(indiSSRR):\n",
    "    rating = 0\n",
    "    if(len(indiSSRR) == 2):\n",
    "        if(len(indiSSRR[1]) == 0):\n",
    "            rating = 0\n",
    "        else:\n",
    "            rating = float(indiSSRR[1])\n",
    "            rating = 0.5*(1+rating)\n",
    "    return rating\n",
    "\n",
    "def extractNumericValue2(indiSSRR):\n",
    "    rating = 0\n",
    "    if(len(indiSSRR) == 2):\n",
    "        if(len(indiSSRR[1]) == 0):\n",
    "            rating = 0\n",
    "        else:\n",
    "            rating = float(indiSSRR[1])\n",
    "    return rating\n",
    "\n",
    "def manageSSRR_revised_2():\n",
    "    s_s_r_r = df[['site_stay_review_rating']]\n",
    "    \n",
    "    for ind in df.index:\n",
    "        valSSRR = df.loc[ind,'site_stay_review_rating']\n",
    "        valSiteName = df.loc[ind,'sitename']\n",
    "    \n",
    "        splitSSRR = valSSRR.split(\"|\")\n",
    "        \n",
    "        if(valSiteName == 'http://www.booking.com/'):\n",
    "            for i in range(len(splitSSRR)):\n",
    "                if(i == 0):\n",
    "                    indiSSRR = splitSSRR[i].split(\":\")\n",
    "                    rating = extractNumericValue(indiSSRR)\n",
    "                    df.loc[ind,'Service_quality'] = rating\n",
    "                elif(i == 1):\n",
    "                    indiSSRR = splitSSRR[i].split(\":\")\n",
    "                    rating = extractNumericValue(indiSSRR)\n",
    "                    df.loc[ind,'Amenities'] = rating\n",
    "                elif(i == 2):\n",
    "                    indiSSRR = splitSSRR[i].split(\":\")\n",
    "                    rating = extractNumericValue(indiSSRR)\n",
    "                    df.loc[ind,'Food_and_drinks'] = rating\n",
    "                elif(i == 3):\n",
    "                    indiSSRR = splitSSRR[i].split(\":\")\n",
    "                    rating = extractNumericValue(indiSSRR)\n",
    "                    df.loc[ind,'Value_for_money'] = rating\n",
    "                elif(i == 4):\n",
    "                    indiSSRR = splitSSRR[i].split(\":\")\n",
    "                    rating = extractNumericValue(indiSSRR)\n",
    "                    df.loc[ind,'Location'] = rating\n",
    "                elif(i == 5):\n",
    "                    indiSSRR = splitSSRR[i].split(\":\")\n",
    "                    rating = extractNumericValue(indiSSRR)\n",
    "                    df.loc[ind,'Cleanliness'] = rating\n",
    "                    \n",
    "        else:\n",
    "            for i in range(len(splitSSRR)):\n",
    "                if(i == 0):\n",
    "                    indiSSRR = splitSSRR[i].split(\"::\")\n",
    "                    rating = extractNumericValue(indiSSRR)\n",
    "                    df.loc[ind,'Service_quality'] = rating\n",
    "                elif(i == 1):\n",
    "                    indiSSRR = splitSSRR[i].split(\"::\")\n",
    "                    rating = extractNumericValue(indiSSRR)\n",
    "                    df.loc[ind,'Amenities'] = rating\n",
    "                elif(i == 2):\n",
    "                    indiSSRR = splitSSRR[i].split(\"::\")\n",
    "                    rating = extractNumericValue(indiSSRR)\n",
    "                    df.loc[ind,'Food_and_drinks'] = rating\n",
    "                elif(i == 3):\n",
    "                    indiSSRR = splitSSRR[i].split(\"::\")\n",
    "                    rating = extractNumericValue(indiSSRR)\n",
    "                    df.loc[ind,'Value_for_money'] = rating\n",
    "                elif(i == 4):\n",
    "                    indiSSRR = splitSSRR[i].split(\"::\")\n",
    "                    rating = extractNumericValue(indiSSRR)\n",
    "                    df.loc[ind,'Location'] = rating\n",
    "                elif(i == 5):\n",
    "                    indiSSRR = splitSSRR[i].split(\"::\")\n",
    "                    rating = extractNumericValue(indiSSRR)\n",
    "                    df.loc[ind,'Cleanliness'] = rating\n",
    "                                   \n",
    "manageSSRR_revised_2()\n",
    "    \n",
    "df"
   ]
  },
  {
   "cell_type": "markdown",
   "metadata": {},
   "source": [
    "### Feature Engineering Site stay review rating "
   ]
  },
  {
   "cell_type": "code",
   "execution_count": null,
   "metadata": {},
   "outputs": [],
   "source": [
    "def manageSSRR_revised():\n",
    "    s_s_r_r = df[['site_stay_review_rating']]\n",
    "    \n",
    "    for ind in df.index:\n",
    "        valSSRR = df.loc[ind,'site_stay_review_rating']\n",
    "        valSiteName = df.loc[ind,'sitename']\n",
    "    \n",
    "        splitSSRR = valSSRR.split(\"|\")\n",
    "        \n",
    "        sumRR = 0\n",
    "        averageRR = 0\n",
    "        \n",
    "        if(valSiteName == 'http://www.booking.com/'):\n",
    "            for i in range(len(splitSSRR)):\n",
    "                indiSSRR = splitSSRR[i].split(\":\")\n",
    "                if(len(indiSSRR) == 2):\n",
    "                    if(len(indiSSRR[1]) == 0):\n",
    "                        rating = 0\n",
    "                    else:\n",
    "                        rating = float(indiSSRR[1])\n",
    "                        ratingScaleChange = 0.5*(1+rating)\n",
    "                        sumRR += ratingScaleChange\n",
    "                else:\n",
    "                    sumRR = 0\n",
    "            if(sumRR > 0):\n",
    "                averageRR = round((sumRR/(len(splitSSRR))),2)\n",
    "            else:\n",
    "                averageRR = 0\n",
    "            df.loc[ind,'site_stay_review_rating'] = averageRR\n",
    "        else:\n",
    "            for i in range(len(splitSSRR)):\n",
    "                indiSSRR = splitSSRR[i].split(\"::\")\n",
    "                if(len(indiSSRR) == 2):\n",
    "                    if(len(indiSSRR[1]) == 0):\n",
    "                        rating = 0\n",
    "                    else:\n",
    "                        rating = float(indiSSRR[1])\n",
    "                        sumRR += rating\n",
    "                else:\n",
    "                    sumRR = 0\n",
    "            if(sumRR > 0):\n",
    "                averageRR = round((sumRR/(len(splitSSRR))),2)\n",
    "            else:\n",
    "                averageRR = 0\n",
    "            df.loc[ind,'site_stay_review_rating'] = averageRR\n",
    "                                   \n",
    "manageSSRR_revised()\n",
    "\n",
    "df"
   ]
  },
  {
   "cell_type": "markdown",
   "metadata": {},
   "source": [
    "# Kavya reference for adding efficiency "
   ]
  },
  {
   "cell_type": "code",
   "execution_count": null,
   "metadata": {},
   "outputs": [],
   "source": [
    "new_col = (df['Service_quality']+ df['Amenities'] + df['Food_and_drinks'] + df['Value_for_money'] + df['Location'] + df['Cleanliness'])/6\n",
    "new_col"
   ]
  },
  {
   "cell_type": "markdown",
   "metadata": {},
   "source": [
    "### Cleaning State Columns"
   ]
  },
  {
   "cell_type": "code",
   "execution_count": null,
   "metadata": {},
   "outputs": [],
   "source": [
    "print(df.state.dtypes)\n",
    "\n",
    "def fixStateNames():\n",
    "    uniqueState = df['state'].unique().tolist()\n",
    "    print(len(uniqueState))\n",
    "    print(uniqueState)\n",
    "    df['state'] = df['state'].apply(lambda x: str(x).lower()) \n",
    "    df['state'] = df['state'].str.replace('delhi ncr','delhi')\n",
    "    df['state'] = df['state'].str.replace('jammu & kashmir','jammu and kashmir')\n",
    "    df['state'] = df['state'].str.replace('jammuandkashmir','jammu and kashmir')\n",
    "    df['state'] = df['state'].str.replace('andaman and nicobar','andaman and nicobar islands')\n",
    "    df['state'] = df['state'].str.replace('andhrapradesh','andhra pradesh')\n",
    "    df['state'] = df['state'].str.replace('tamilnadu','tamil nadu')\n",
    "    df['state'] = df['state'].str.replace('himachalpradesh','himachal pradesh')\n",
    "    df['state'] = df['state'].str.replace('madhyapradesh','madhya pradesh')\n",
    "    df['state'] = df['state'].str.replace('uttarpradesh','uttar pradesh')\n",
    "    df['state'] = df['state'].str.replace('uttarakhand','uttaranchal')\n",
    "    df['state'] = df['state'].str.replace('westbengal','west bengal')\n",
    "    df['state'] = df['state'].str.replace('damananddiu','daman and diu')\n",
    "    df['state'] = df['state'].str.replace('andamanandnicobarislands','andaman and nicobar islands')\n",
    "    df['state'] = df['state'].str.replace('arunachalpradesh','arunachal pradesh')\n",
    "    uniqueState2 = df['state'].unique().tolist()\n",
    "    print(len(uniqueState2))\n",
    "    print(uniqueState2)\n",
    "\n",
    "fixStateNames()"
   ]
  },
  {
   "cell_type": "markdown",
   "metadata": {},
   "source": [
    "### Replacing the numeric values in propertytype and cleaning"
   ]
  },
  {
   "cell_type": "code",
   "execution_count": null,
   "metadata": {},
   "outputs": [],
   "source": [
    "propertyType_values_to_replace = {'204':'hotel','208':'hotel','219':'hotel','216':'hotel','218':'hotel','223':'hotel','203':'hotel','225':'hotel','222':'homestay','201':'apartments','212':'bunglows','215':'houseboat','224':'cottages','220':'cottages','221':'lodges','213':'villas','206':'resort','231':'resort'}\n",
    "df = df.replace({\"property_type\":propertyType_values_to_replace})\n",
    "\n",
    "df['property_type'] = df['property_type'].apply(lambda x: str(x).lower())\n",
    "\n",
    "df['property_type'] = df['property_type'].str.replace('bed_and_breakfast','bed and breakfast')\n",
    "df['property_type'] = df['property_type'].str.replace('serviced apartments','service apartment')\n",
    "df['property_type'] = df['property_type'].str.replace('bnb','bed and breakfast')\n",
    "df['property_type'] = df['property_type'].str.replace('guest_house','guest house')\n",
    "df['property_type'] = df['property_type'].str.replace('farm_holiday','farm holiday')\n",
    "df['property_type'] = df['property_type'].str.replace('holiday_home','holiday home')\n",
    "df['property_type'] = df['property_type'].str.replace('villas','villa')\n",
    "df['property_type'] = df['property_type'].str.replace('bunglows','bunglow')\n",
    "df['property_type'] = df['property_type'].str.replace('lodges','lodge')\n",
    "df['property_type'] = df['property_type'].str.replace('boat','houseboat')\n",
    "df['property_type'] = df['property_type'].str.replace('househouseboat','houseboat')\n",
    "df['property_type'] = df['property_type'].str.replace('bungalow','bunglow')\n",
    "\n",
    "propertyTypeList2 = df[\"property_type\"].unique().tolist()\n",
    "print(len(propertyTypeList2))\n",
    "print(propertyTypeList2)"
   ]
  },
  {
   "cell_type": "code",
   "execution_count": null,
   "metadata": {},
   "outputs": [],
   "source": []
  },
  {
   "cell_type": "code",
   "execution_count": null,
   "metadata": {},
   "outputs": [],
   "source": [
    "df['site_stay_review_rating'] = pd.to_numeric(df['site_stay_review_rating'],errors='coerce')\n",
    "\n",
    "vis_cols_remove = ['Service_quality','Amenities','Food_and_drinks','Value_for_money','Location','Cleanliness','latitude','longitude','image_count','room_count']\n",
    "\n",
    "data_vis_corr = df.drop(vis_cols_remove,axis=1)\n",
    "\n",
    "\n",
    "Var_Corr = data_vis_corr.corr(method='spearman')\n",
    "# plot the heatmap and annotation on it\n",
    "plt.figure(figsize = (16,5))\n",
    "sns.heatmap(Var_Corr, xticklabels=Var_Corr.columns, yticklabels=Var_Corr.columns, annot=True)"
   ]
  },
  {
   "cell_type": "markdown",
   "metadata": {},
   "source": [
    "## reshuffling"
   ]
  },
  {
   "cell_type": "markdown",
   "metadata": {},
   "source": [
    "### Modifying all values in site_review_rating to the scale rated of five - Dhana"
   ]
  },
  {
   "cell_type": "code",
   "execution_count": null,
   "metadata": {},
   "outputs": [],
   "source": [
    "def srr_revised():\n",
    "    s_r_r = df[['site_review_rating']]\n",
    "    \n",
    "    for ind in df.index:\n",
    "        valSRR = df.loc[ind,'site_review_rating']\n",
    "        valSiteName = df.loc[ind,'sitename']\n",
    "        \n",
    "        if(valSiteName == 'http://www.booking.com/'):\n",
    "            valSRR = valSRR/2\n",
    "            df.loc[ind,'site_review_rating'] = valSRR\n",
    "        else:\n",
    "            df.loc[ind,'site_review_rating'] = valSRR        \n",
    "                                   \n",
    "srr_revised()"
   ]
  },
  {
   "cell_type": "code",
   "execution_count": null,
   "metadata": {},
   "outputs": [],
   "source": [
    "df['Test'] = df['site_review_rating'].apply(lambda x: 'True' if x <= 5 else 'False')\n",
    "print(df[df.Test.astype(str).str.contains('False')])\n",
    "df = df.drop(['Test'],axis=1)"
   ]
  },
  {
   "cell_type": "markdown",
   "metadata": {},
   "source": [
    "#### Creating new feature (score) combination of site review rating and site review count"
   ]
  },
  {
   "cell_type": "code",
   "execution_count": null,
   "metadata": {},
   "outputs": [],
   "source": [
    "df['score_src_srr'] = df['site_review_rating']*df['site_review_count']"
   ]
  },
  {
   "cell_type": "markdown",
   "metadata": {},
   "source": [
    "### Normalisation of column score_src_srr"
   ]
  },
  {
   "cell_type": "code",
   "execution_count": null,
   "metadata": {},
   "outputs": [],
   "source": [
    "print(\"Type of 'score_src_srr'\" + str(df['score_src_srr'].dtypes))\n",
    "df['score_normalised']=((df['score_src_srr']-df['score_src_srr'].min())/(df[\"score_src_srr\"].max()-df['score_src_srr'].min()))*10\n",
    "print(\"Any nanas: \" + str(df['score_normalised'].isnull().sum()))\n",
    "print(\"Minimum: \" + str(df['score_normalised'].min()))\n",
    "print(\"Maximum: \" + str(df['score_normalised'].max()))\n",
    "df"
   ]
  },
  {
   "cell_type": "code",
   "execution_count": null,
   "metadata": {},
   "outputs": [],
   "source": [
    "df.isna().sum()"
   ]
  },
  {
   "cell_type": "markdown",
   "metadata": {},
   "source": [
    "### Deleting `hotel_star_rating` since 1719 examples/rows are missing \n",
    "### Deleing `image_count` since its of no use\n",
    "### Deleing `hotel_discription` //\n"
   ]
  },
  {
   "cell_type": "code",
   "execution_count": null,
   "metadata": {},
   "outputs": [],
   "source": [
    "df.drop(columns=['hotel_star_rating', 'image_count', 'hotel_description'], inplace=True)\n",
    "\n",
    "df.isna().sum()"
   ]
  },
  {
   "cell_type": "markdown",
   "metadata": {},
   "source": [
    "### Reindexing\n"
   ]
  },
  {
   "cell_type": "code",
   "execution_count": null,
   "metadata": {},
   "outputs": [],
   "source": [
    "df = df.reset_index(drop=True)\n",
    "df.index"
   ]
  },
  {
   "cell_type": "code",
   "execution_count": null,
   "metadata": {},
   "outputs": [],
   "source": [
    "# values is each cell in the hotel_facilities column\n",
    "\n",
    "\n",
    "def clean_hotel_facilities(cell):\n",
    "    \"\"\"\n",
    "    This function returns a list of hotel_facilities that are more cleaned\n",
    "    and could be used for dummification/feature extraction straight away with clean column names.\n",
    "    \"\"\"\n",
    "    cell_value = []\n",
    "    cell = cell.split(\"|\")\n",
    "    for values in cell:\n",
    "        for val in values.split('•'):\n",
    "            val = val.replace(\"\\n\", \"\").replace(\"!\", \"! \").replace(' / ', '/')\\\n",
    "            .replace(' ( ', '(').replace(' (', '(').replace(' )', ')').replace(' (', '(')\\\n",
    "            .strip().rstrip('.').lower()\n",
    "      \n",
    "            if \":\" in val:\n",
    "                _, val = val.split(\":\",1)\n",
    "        cell_value.append(val)\n",
    "    if \"\" in cell_value:\n",
    "        cell_value.remove(\"\")\n",
    "    return cell_value\n",
    "\n",
    "\n"
   ]
  },
  {
   "cell_type": "markdown",
   "metadata": {},
   "source": [
    "## `hotel_facilities sorting` by `property_type`\n",
    "we'll be using property type so see what sort of hotel facilities do we have. For each facility we'll make a dataframe to get unique values in excel after first cleaning in pandas. In excel we would do a bit of more cleaning at the end and reload the data."
   ]
  },
  {
   "cell_type": "code",
   "execution_count": null,
   "metadata": {},
   "outputs": [],
   "source": [
    "# list of prefixes that are attached to the next word\n",
    "#lo_prefixes = ['free internet', 'gym/spa', 'internet access', 'restaurant', 'room service']\n",
    "\n",
    "# cleaning hotel_facilities\n",
    "df['hotel_facilities'] = df['hotel_facilities'].apply(clean_hotel_facilities)\n",
    "display(df.head(1))\n",
    "\n",
    "# replacing nan valeus with other\n",
    "df['property_type'] = df['property_type'].replace(np.nan, 'other', regex=True)\n",
    "\n",
    "# getting sorted unique values of property_types\n",
    "df_prop_uni = df['property_type'].unique()\n",
    "df_prop_uni.sort()\n",
    "print(df_prop_uni)\n",
    "\n",
    "# Sorting values based on property_type\n",
    "df = df.sort_values('property_type')\n",
    "df = df.reset_index(drop=True)\n",
    "\n",
    "\n",
    "# Renaming property_types\n",
    "df.property_type = df.property_type.replace({\"beach hut\": \"beach_hut\", \"bed and breakfast\": \"bed_and_beakfast\", \\\n",
    "                             \"farm holiday\": \"farm_holiday\", \"guest house\": \"guest_house\", \\\n",
    "                             \"holiday home\": \"holiday_home\", \"service apartment\": \"service_apartment\", \"cottages\": \"cottage\"})\n",
    "\n",
    "# From list of strings to string\n",
    "df['hotel_facilities'] = df['hotel_facilities'].apply(', '.join)\n",
    "df.head()\n"
   ]
  },
  {
   "cell_type": "code",
   "execution_count": null,
   "metadata": {},
   "outputs": [],
   "source": [
    "df.property_type.unique()"
   ]
  },
  {
   "cell_type": "code",
   "execution_count": null,
   "metadata": {},
   "outputs": [],
   "source": [
    "df_other = df[df.property_type == 'other']\n",
    "df_apartments = df[df.property_type == 'apartments']\n",
    "df_beach_hut = df[df.property_type == 'beach_hut']\n",
    "df_bed_and_breakfast = df[df.property_type == 'bed_and_beakfast']\n",
    "df_bunglow = df[df.property_type == 'bunglow']\n",
    "df_cottage = df[df.property_type == 'cottage']\n",
    "df_farm_holiday = df[df.property_type == 'farm_holiday']\n",
    "df_guest_house = df[df.property_type == 'guest_house']\n",
    "df_holiday_home = df[df.property_type == 'holiday_home']\n",
    "df_homestay = df[df.property_type == 'homestay']\n",
    "df_hostel = df[df.property_type == 'hostel']\n",
    "df_hotel = df[df.property_type == 'hotel']\n",
    "df_houseboat = df[df.property_type == 'houseboat']\n",
    "df_lodge = df[df.property_type == 'lodge']\n",
    "df_motel = df[df.property_type == 'motel']\n",
    "df_other = df[df.property_type == 'other']\n",
    "df_palace = df[df.property_type == 'palace']\n",
    "df_resort = df[df.property_type == 'resort']\n",
    "df_service_apartment = df[df.property_type == 'service_apartment']\n",
    "df_tent = df[df.property_type == 'tent']\n",
    "df_villa = df[df.property_type == 'villa']\n"
   ]
  },
  {
   "cell_type": "markdown",
   "metadata": {},
   "source": [
    "# Getting the dictionaries of all dfs' `hotel_facilities` with counts\n"
   ]
  },
  {
   "cell_type": "code",
   "execution_count": null,
   "metadata": {},
   "outputs": [],
   "source": [
    "# reference 1: https://stackoverflow.com/questions/952914/how-to-make-a-flat-list-out-of-list-of-lists\n",
    "# reference 2: https://stackoverflow.com/questions/2161752/how-to-count-the-frequency-of-the-elements-in-a-list\n",
    "\n",
    "\"\"\"\n",
    "lol_faci: list of lists of hotel_facilities of df_property_type\n",
    "list_faci: flattened list of the above\n",
    "\"\"\"\n",
    "\n",
    "lo_ptype = ['apartments', 'beach_hut', 'bed_and_breakfast', 'bunglow', 'cottage',\\\n",
    "            'farm_holiday', 'guest_house', 'holiday_home', 'homestay', 'hostel', \\\n",
    "            'hotel', 'houseboat', 'lodge', 'motel', 'other', 'palace', 'resort', \\\n",
    "            'service_apartment', 'tent', 'villa']\n",
    "\n",
    "#def get_df_ptype_faci(lo_ptypes):\n",
    "#  \"\"\"get dataframes of hotel_facilies with its count for proptery_type\"\"\"\n",
    "for ptype in lo_ptype:\n",
    "    import pprint\n",
    "    from itertools import chain\n",
    "    from itertools import groupby\n",
    "    from collections import Counter\n",
    "    \n",
    "    df_name = vars()['df_'+ ptype]\n",
    "\n",
    "    lol_faci = df_name.hotel_facilities.tolist()\n",
    "    list_faci = sorted(list(chain.from_iterable(lol_faci)))\n",
    "    dict_faci = Counter(list_faci)\n",
    "\n",
    "    print(\"len of 'list_faci_{}': {} \".format(ptype, len(list_faci)))\n",
    "    # pretty print dictionary \n",
    "    pprint.pprint(dict_faci)\n",
    "\n",
    "  # Convert dictionary to a dataframe then writing it to a file and downloading the file\n",
    "    df_faci = pd.DataFrame(list(dict_faci.items()), columns = ['facility', 'count'])\n",
    "    df_faci.to_csv('df_faci_{}.csv'.format(ptype))\n",
    "    #files.download('df_faci_{}.csv'.format(ptype))\n",
    "    print(lol_faci)\n",
    "    \n",
    "    \n",
    "#get_df_ptype_faci(lo_ptype)\n",
    "  "
   ]
  },
  {
   "cell_type": "markdown",
   "metadata": {},
   "source": [
    "# Making dataframes based on `property_type` from main the dataframe"
   ]
  },
  {
   "cell_type": "code",
   "execution_count": null,
   "metadata": {},
   "outputs": [],
   "source": [
    "#Vibha and Kavya write path for windows yourself, but you don't have to run this cell\n",
    "df_hotel_facilities = df['hotel_facilities']\n",
    "df_hotel_facilities.to_csv('./uc_hf/uncleaned_hotel_facilities.csv')\n"
   ]
  },
  {
   "cell_type": "markdown",
   "metadata": {},
   "source": [
    "## The data has been further cleaned in Excel\n",
    "\n",
    "\n",
    "first divide the strings into where there is something like this `free internetair-conditional - central`\n",
    "ilities.csv')\n",
    "\n"
   ]
  },
  {
   "cell_type": "markdown",
   "metadata": {},
   "source": [
    "### Upload the hotel_facilities file after cleaning in excel\n"
   ]
  },
  {
   "cell_type": "code",
   "execution_count": null,
   "metadata": {},
   "outputs": [],
   "source": [
    "\n",
    "pd.set_option('display.max_colwidth', -1)\n",
    "\n",
    "col_names = ['index', 'hotel_facilities']\n",
    "df_hotel_facilities = pd.read_csv('./c_hf/cleaned_hotel_facilities.csv', names=col_names)\n",
    "df_hotel_facilities = df_hotel_facilities.drop(columns=['index'], axis=1)\n",
    "df_hotel_facilities"
   ]
  },
  {
   "cell_type": "markdown",
   "metadata": {},
   "source": [
    "# Dummification"
   ]
  },
  {
   "cell_type": "code",
   "execution_count": null,
   "metadata": {},
   "outputs": [],
   "source": [
    "df_hotel_facilities_dummy = df_hotel_facilities['hotel_facilities'].str.get_dummies(sep=',')\n",
    "df_hotel_facilities_dummy\n"
   ]
  },
  {
   "cell_type": "code",
   "execution_count": null,
   "metadata": {},
   "outputs": [],
   "source": [
    "print(len(df_hotel_facilities_dummy.columns))\n",
    "# Droping the first column that has no name\n",
    "df_hotel_facilities_dummy = df_hotel_facilities_dummy.drop(df_hotel_facilities_dummy.columns[0], axis=1)\n",
    "df_hotel_facilities_dummy.head(10)"
   ]
  },
  {
   "cell_type": "markdown",
   "metadata": {},
   "source": [
    "# changing column names from `air conditioning` to  `air_conditioning` and `Swimming Pool` to `swimming_pool`"
   ]
  },
  {
   "cell_type": "code",
   "execution_count": null,
   "metadata": {},
   "outputs": [],
   "source": [
    "df_hotel_facilities_dummy.columns = df_hotel_facilities_dummy.columns.map(lambda x: x.strip().lower().replace(' ', '_'))\n",
    "df_hotel_facilities_dummy.columns"
   ]
  },
  {
   "cell_type": "markdown",
   "metadata": {},
   "source": [
    "# Until here the code is fully working "
   ]
  },
  {
   "cell_type": "code",
   "execution_count": null,
   "metadata": {},
   "outputs": [],
   "source": [
    "Stop Execution here"
   ]
  },
  {
   "cell_type": "markdown",
   "metadata": {},
   "source": [
    "# KAVYA and VIBHA if you could solve the issue below, then you can run cancatenation code to merge the two dataframe and play further with it."
   ]
  },
  {
   "cell_type": "markdown",
   "metadata": {},
   "source": [
    "# Deleting Columns that are are not suitable for `df_hotel_facilities_dummy`\n"
   ]
  },
  {
   "cell_type": "code",
   "execution_count": null,
   "metadata": {},
   "outputs": [],
   "source": [
    "cols_del = ['dvds_on_request','flight_status',\\\n",
    "            'free!_free_private_parking_is_possible_at a_location_nearby(reservation_is_not_possible)',\\\n",
    "            'free!_free_private_parking_is_possible_on_site(reservation_is_not_needed)',\\\n",
    "            'free!_free_private_parking_is_possible_on_site(reservation_is_not_possible)',\\\n",
    "            'free!_free_public_parking_is_possible_at_a_location_nearby(reservation_is_not_needed)',\\\n",
    "            'free!_free_public_parking_is_possible_on_site(reservation_is_not_needed)',\\\n",
    "            'free!_wifi_is_available_in_public_areas_and_is_free_of_charge',\\\n",
    "            'free!_wifi_is_available_in_some_hotel_rooms_and_is_free_of_charge',\\\n",
    "            'free!_wifi_is_available_in_the_business_centre_and_is_free_of_charge',\n",
    "            'free!_wifi_is_available_in_the_hotel_rooms_and_is_free_of_charge',\\\n",
    "            'free!_wired_internet_is_available_in_public_areas_and_is_free_of_charge',\\\n",
    "            'free!_wired_internet_is_available_in_the_hotel_rooms_and_is_free_of_charge',\\\n",
    "            'full_time_operation_for_all_7_days','hairdryers','hammam','word_processing']\n",
    "\n",
    "\n",
    "not_found = ['amar_punjab_restaurant', 'analog_dial-up_dataport', 'dvd_library' ]\n",
    "\n",
    "df_hotel_facilities_dummy.drop(columns= ['dvds_on_request','flight_status',\\\n",
    "            'free!_free_private_parking_is_possible_at a_location_nearby(reservation_is_not_possible)',\\\n",
    "            'free!_free_private_parking_is_possible_on_site(reservation_is_not_needed)',\\\n",
    "            'free!_free_private_parking_is_possible_on_site(reservation_is_not_possible)',\\\n",
    "            'free!_free_public_parking_is_possible_at_a_location_nearby(reservation_is_not_needed)',\\\n",
    "            'free!_free_public_parking_is_possible_on_site(reservation_is_not_needed)',\\\n",
    "            'free!_wifi_is_available_in_public_areas_and_is_free_of_charge',\\\n",
    "            'free!_wifi_is_available_in_some_hotel_rooms_and_is_free_of_charge',\\\n",
    "            'free!_wifi_is_available_in_the_business_centre_and_is_free_of_charge',\n",
    "            'free!_wifi_is_available_in_the_hotel_rooms_and_is_free_of_charge',\\\n",
    "            'free!_wired_internet_is_available_in_public_areas_and_is_free_of_charge',\\\n",
    "            'free!_wired_internet_is_available_in_the_hotel_rooms_and_is_free_of_charge',\\\n",
    "            'full_time_operation_for_all_7_days','hairdryers','hammam','word_processing'], axis=1)\n",
    "\n"
   ]
  },
  {
   "cell_type": "code",
   "execution_count": null,
   "metadata": {},
   "outputs": [],
   "source": [
    "type(df_hotel_facilities_dummy.columns[0])"
   ]
  },
  {
   "cell_type": "markdown",
   "metadata": {},
   "source": [
    "# Merging `df_hotel_facilities_dummy` with `df`\n"
   ]
  },
  {
   "cell_type": "code",
   "execution_count": null,
   "metadata": {},
   "outputs": [],
   "source": [
    "# drop the hotel facilities\n",
    "df = df.drop(columns=['hotel_facilities'], axis=1)\n"
   ]
  },
  {
   "cell_type": "code",
   "execution_count": null,
   "metadata": {},
   "outputs": [],
   "source": [
    "df = pd.concat([df, df_hotel_facilities_dummy], axis= 1)\n",
    "df = df.reindex(sorted(df.columns), axis=1)\n",
    "df\n"
   ]
  },
  {
   "cell_type": "markdown",
   "metadata": {},
   "source": [
    "# VIBHA AND KAVYA\n",
    "\n",
    "## 1. From here do a bit a `visualization` to get a sense of data in `tabeleau`\n",
    "## 2. `Dimensionality reduction`\n",
    "## 3. Again `visualization` to see what happend and how. Was that good or not.\n",
    "## afterwards you think about the hypothesis solution. We are ready to go.\n"
   ]
  },
  {
   "cell_type": "markdown",
   "metadata": {},
   "source": [
    "# STOP Execution"
   ]
  },
  {
   "cell_type": "code",
   "execution_count": null,
   "metadata": {},
   "outputs": [],
   "source": [
    "stop execution"
   ]
  },
  {
   "cell_type": "markdown",
   "metadata": {},
   "source": [
    "# ----------------------------------------------------------------------------------------\n",
    "# ----------------------------------------------------------------------------------------\n",
    "# ----------------------------------------------------------------------------------------\n",
    "# ----------------------------------------------------------------------------------------\n",
    "# ----------------------------------------------------------------------------------------\n",
    "# ----------------------------------------------------------------------------------------\n",
    "# ----------------------------------------------------------------------------------------\n"
   ]
  }
 ],
 "metadata": {
  "kernelspec": {
   "display_name": "Python 3",
   "language": "python",
   "name": "python3"
  },
  "language_info": {
   "codemirror_mode": {
    "name": "ipython",
    "version": 3
   },
   "file_extension": ".py",
   "mimetype": "text/x-python",
   "name": "python",
   "nbconvert_exporter": "python",
   "pygments_lexer": "ipython3",
   "version": "3.6.8"
  }
 },
 "nbformat": 4,
 "nbformat_minor": 2
}
